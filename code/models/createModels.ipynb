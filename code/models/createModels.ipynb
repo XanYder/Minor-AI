{
 "cells": [
  {
   "cell_type": "code",
   "execution_count": 1,
   "metadata": {},
   "outputs": [],
   "source": [
    "import pandas as pd\n",
    "import numpy as np\n",
    "import os\n",
    "from collections import Counter\n",
    "import matplotlib.pyplot as plt\n",
    "from sklearn.metrics import accuracy_score\n",
    "from sklearn.linear_model import SGDClassifier\n",
    "import pickle\n",
    "from sklearn.metrics import plot_confusion_matrix\n",
    "from builtins import range\n",
    "from builtins import object\n",
    "from resizeimage import resizeimage\n",
    "from PIL import Image, ImageOps\n",
    "import matplotlib.pyplot as plt\n",
    "%matplotlib inline"
   ]
  },
  {
   "cell_type": "code",
   "execution_count": 2,
   "metadata": {},
   "outputs": [],
   "source": [
    "CLASS_NAMES = [\"Angry\", \"Disgust\", \"Fear\", \"Happy\", \"Sad\", \"Surprise\", \"Neutral\"]\n",
    "CLASS_NAMES_WITHOUT_DISGUST = [\"Angry\", \"Fear\", \"Happy\", \"Sad\", \"Surprise\", \"Neutral\"]\n",
    "FILE_NAME = \"face_augmentated_3.csv\"\n",
    "WHITE_IMAGES = [6458,  7629, 10423, 11286, 13148, 13402, 13988, 15894, 22198, 22927, 28601, 59]\n",
    "IMAGES_FOR_TESTING = \"data/Images_for_testing/\""
   ]
  },
  {
   "cell_type": "code",
   "execution_count": 3,
   "metadata": {},
   "outputs": [],
   "source": [
    "data_path = [\"data/\"] # Insert data file path\n",
    "file_path = os.sep.join(data_path + [FILE_NAME])\n",
    "data = pd.read_csv(file_path)\n",
    "data = data.drop(index=WHITE_IMAGES, axis=0)\n",
    "data_exclude_disgust = data[data['emotion'] != 1] # Drops the emotion Disgust"
   ]
  },
  {
   "cell_type": "code",
   "execution_count": 4,
   "metadata": {},
   "outputs": [],
   "source": [
    "def data_X_y(data):\n",
    "    # Split data into X & y\n",
    "    X = data.drop('emotion', axis='columns')\n",
    "    y = data['emotion']\n",
    "\n",
    "    # Reshapes X into 3D array\n",
    "    X = [pixels.split(\" \") for pixels in data[\"pixels\"]]\n",
    "    X = np.array(X)\n",
    "    X = X.astype(\"int32\")\n",
    "    X = np.array([image.reshape(48, 48) for image in X])\n",
    "    X = X/255.0\n",
    "    X = X.reshape(len(X), 48, 48, 1)\n",
    "    \n",
    "    return X,y"
   ]
  },
  {
   "cell_type": "code",
   "execution_count": 5,
   "metadata": {},
   "outputs": [],
   "source": [
    "def reshape_X(X):\n",
    "    num_training = X.shape[0]\n",
    "    mask = list(range(num_training))\n",
    "    X_reshape = X[mask]\n",
    "\n",
    "    # Reshape the image data into rows\n",
    "    X_reshape = np.reshape(X, (X.shape[0], -1))\n",
    "    \n",
    "    return X_reshape"
   ]
  },
  {
   "cell_type": "code",
   "execution_count": 6,
   "metadata": {},
   "outputs": [],
   "source": [
    "X,y = data_X_y(data_exclude_disgust)\n",
    "X = reshape_X(X)\n"
   ]
  },
  {
   "cell_type": "code",
   "execution_count": 7,
   "metadata": {},
   "outputs": [],
   "source": [
    "rosParams = [['hinge', 'l2', True, True, False, True], ['hinge', 'l2', False, True, False, True], ['hinge', 'elasticnet', True, True, False, True], ['hinge', 'elasticnet', False, True, False, True], ['log', 'l2', True, True, False, True], ['log', 'l2', False, True, False, False], ['log', 'l1', True, False, False, True], ['log', 'l1', True, False, False, False], ['log', 'elasticnet', True, True, False, True], ['log', 'elasticnet', True, True, False, False], ['log', 'elasticnet', False, True, False, True], ['modified_huber', 'l1', True, True, False, True]]\n",
    "smoteParams = [['hinge', 'l2', True, True, False, False], ['hinge', 'l2', True, False, False, True], ['hinge', 'l1', True, True, False, True], ['hinge', 'elasticnet', True, True, False, True], ['hinge', 'elasticnet', True, True, False, False], ['hinge', 'elasticnet', True, False, False, True], ['hinge', 'elasticnet', True, False, False, False], ['hinge', 'elasticnet', False, True, False, True], ['hinge', 'elasticnet', False, True, False, False], ['hinge', 'elasticnet', False, False, False, True], ['log', 'l2', True, False, False, True], ['log', 'l2', True, False, False, False], ['log', 'l2', False, True, False, False], ['log', 'l1', True, True, False, True], ['log', 'l1', True, True, False, False], ['log', 'l1', True, False, False, True], ['log', 'l1', True, False, False, False], ['log', 'l1', False, True, False, True], ['log', 'elasticnet', True, False, False, True], ['log', 'elasticnet', True, False, False, False], ['log', 'elasticnet', False, True, False, True], ['log', 'elasticnet', False, True, False, False], ['modified_huber', 'l2', True, True, False, True], ['modified_huber', 'elasticnet', False, True, False, False], ['squared_hinge', 'l1', True, True, False, True]]"
   ]
  },
  {
   "cell_type": "code",
   "execution_count": 9,
   "metadata": {},
   "outputs": [
    {
     "name": "stdout",
     "output_type": "stream",
     "text": [
      "Current params:  SGDClassifier(warm_start=True)\n",
      "Model saved to:  rosParams['hinge', 'l2', True, True, False, True]\n",
      "Current params:  SGDClassifier(fit_intercept=False, warm_start=True)\n",
      "Model saved to:  rosParams['hinge', 'l2', True, True, False, True]['hinge', 'l2', False, True, False, True]\n",
      "Current params:  SGDClassifier(penalty='elasticnet', warm_start=True)\n",
      "Model saved to:  rosParams['hinge', 'l2', True, True, False, True]['hinge', 'l2', False, True, False, True]['hinge', 'elasticnet', True, True, False, True]\n",
      "Current params:  SGDClassifier(fit_intercept=False, penalty='elasticnet', warm_start=True)\n",
      "Model saved to:  rosParams['hinge', 'l2', True, True, False, True]['hinge', 'l2', False, True, False, True]['hinge', 'elasticnet', True, True, False, True]['hinge', 'elasticnet', False, True, False, True]\n",
      "Current params:  SGDClassifier(loss='log', warm_start=True)\n",
      "Model saved to:  rosParams['hinge', 'l2', True, True, False, True]['hinge', 'l2', False, True, False, True]['hinge', 'elasticnet', True, True, False, True]['hinge', 'elasticnet', False, True, False, True]['log', 'l2', True, True, False, True]\n",
      "Current params:  SGDClassifier(fit_intercept=False, loss='log')\n"
     ]
    },
    {
     "ename": "OSError",
     "evalue": "[Errno 22] Invalid argument: \"rosParams['hinge', 'l2', True, True, False, True]['hinge', 'l2', False, True, False, True]['hinge', 'elasticnet', True, True, False, True]['hinge', 'elasticnet', False, True, False, True]['log', 'l2', True, True, False, True]['log', 'l2', False, True, False, False]\"",
     "output_type": "error",
     "traceback": [
      "\u001b[1;31m---------------------------------------------------------------------------\u001b[0m",
      "\u001b[1;31mOSError\u001b[0m                                   Traceback (most recent call last)",
      "\u001b[1;32m<ipython-input-9-1067ef670658>\u001b[0m in \u001b[0;36m<module>\u001b[1;34m\u001b[0m\n\u001b[0;32m     11\u001b[0m \u001b[1;33m\u001b[0m\u001b[0m\n\u001b[0;32m     12\u001b[0m     \u001b[0mfilename\u001b[0m \u001b[1;33m=\u001b[0m \u001b[0mfilename\u001b[0m \u001b[1;33m+\u001b[0m \u001b[0mstr\u001b[0m\u001b[1;33m(\u001b[0m\u001b[0mi\u001b[0m\u001b[1;33m)\u001b[0m\u001b[1;33m\u001b[0m\u001b[1;33m\u001b[0m\u001b[0m\n\u001b[1;32m---> 13\u001b[1;33m     \u001b[0mpickle\u001b[0m\u001b[1;33m.\u001b[0m\u001b[0mdump\u001b[0m\u001b[1;33m(\u001b[0m\u001b[0mclf\u001b[0m\u001b[1;33m,\u001b[0m \u001b[0mopen\u001b[0m\u001b[1;33m(\u001b[0m\u001b[0mfilename\u001b[0m\u001b[1;33m,\u001b[0m \u001b[1;34m'wb'\u001b[0m\u001b[1;33m)\u001b[0m\u001b[1;33m)\u001b[0m\u001b[1;33m\u001b[0m\u001b[1;33m\u001b[0m\u001b[0m\n\u001b[0m\u001b[0;32m     14\u001b[0m     \u001b[0mprint\u001b[0m\u001b[1;33m(\u001b[0m\u001b[1;34m\"Model saved to: \"\u001b[0m\u001b[1;33m,\u001b[0m\u001b[0mfilename\u001b[0m\u001b[1;33m)\u001b[0m\u001b[1;33m\u001b[0m\u001b[1;33m\u001b[0m\u001b[0m\n",
      "\u001b[1;31mOSError\u001b[0m: [Errno 22] Invalid argument: \"rosParams['hinge', 'l2', True, True, False, True]['hinge', 'l2', False, True, False, True]['hinge', 'elasticnet', True, True, False, True]['hinge', 'elasticnet', False, True, False, True]['log', 'l2', True, True, False, True]['log', 'l2', False, True, False, False]\""
     ]
    }
   ],
   "source": [
    "rosResults = []\n",
    "counter = 0\n",
    "filename = 'rosParams'\n",
    "\n",
    "for i in rosParams:               \n",
    "    clf = SGDClassifier(loss = rosParams[counter][0], penalty =  rosParams[counter][1], fit_intercept = rosParams[counter][2], shuffle = rosParams[counter][3], early_stopping = rosParams[counter][4], warm_start = rosParams[counter][5])\n",
    "    print(\"Current params: \", clf)\n",
    "    counter = counter + 1\n",
    "\n",
    "    clf.fit(X, y)\n",
    "    \n",
    "    filename = filename + str(i)\n",
    "    pickle.dump(clf, open(filename, 'wb'))\n",
    "    print(\"Model saved to: \",filename)"
   ]
  },
  {
   "cell_type": "code",
   "execution_count": null,
   "metadata": {},
   "outputs": [],
   "source": [
    "smoteResults = []\n",
    "counter = 0\n",
    "filename = 'smoteParams'\n",
    "\n",
    "for i in smoteParams:               \n",
    "    clf = SGDClassifier(loss = smoteParams[counter][0], penalty =  smoteParams[counter][1], fit_intercept = smoteParams[counter][2], shuffle = smoteParams[counter][3], early_stopping = smoteParams[counter][4], warm_start = smoteParams[counter][5])\n",
    "    print(\"Current params: \", clf)\n",
    "    counter = counter + 1\n",
    "\n",
    "    clf.fit(X, y)\n",
    "\n",
    "    filename = filename + str(i)\n",
    "    \n",
    "    pickle.dump(clf, open(filename, 'wb'))\n",
    "    print(\"Model saved to:\",filename)"
   ]
  },
  {
   "cell_type": "code",
   "execution_count": null,
   "metadata": {},
   "outputs": [],
   "source": []
  }
 ],
 "metadata": {
  "kernelspec": {
   "display_name": "Python 3",
   "language": "python",
   "name": "python3"
  },
  "language_info": {
   "codemirror_mode": {
    "name": "ipython",
    "version": 3
   },
   "file_extension": ".py",
   "mimetype": "text/x-python",
   "name": "python",
   "nbconvert_exporter": "python",
   "pygments_lexer": "ipython3",
   "version": "3.8.5"
  }
 },
 "nbformat": 4,
 "nbformat_minor": 4
}
