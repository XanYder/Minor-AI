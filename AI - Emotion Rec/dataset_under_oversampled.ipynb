{
 "cells": [
  {
   "cell_type": "markdown",
   "id": "loving-thompson",
   "metadata": {},
   "source": [
    "Import Libraries"
   ]
  },
  {
   "cell_type": "code",
   "execution_count": 1,
   "id": "prescribed-universe",
   "metadata": {},
   "outputs": [],
   "source": [
    "import numpy as np\n",
    "from sklearn.model_selection import train_test_split\n",
    "import tensorflow as tf\n",
    "import pandas as pd\n",
    "import matplotlib.pyplot as plt\n",
    "import os\n",
    "import matplotlib as mpl\n",
    "import random\n",
    "from tensorflow.keras import layers\n",
    "from tensorflow.keras import optimizers\n",
    "from tensorflow.keras import losses\n",
    "from tensorflow.keras import regularizers"
   ]
  },
  {
   "cell_type": "code",
   "execution_count": 2,
   "id": "negative-junior",
   "metadata": {},
   "outputs": [],
   "source": [
    "CLASS_NAMES = [\"Angry\", \"Disgust\", \"Fear\", \"Happy\", \"Sad\", \"Surprise\", \"Neutral\"]\n",
    "FILE_NAME = \"icml_face_data.csv\"\n",
    "WHITE_IMAGES = [6458,  7629, 10423, 11286, 13148, 13402, 13988, 15894, 22198, 22927, 28601, 59]"
   ]
  },
  {
   "cell_type": "code",
   "execution_count": 3,
   "id": "incorporated-classic",
   "metadata": {},
   "outputs": [
    {
     "data": {
      "text/html": [
       "<div>\n",
       "<style scoped>\n",
       "    .dataframe tbody tr th:only-of-type {\n",
       "        vertical-align: middle;\n",
       "    }\n",
       "\n",
       "    .dataframe tbody tr th {\n",
       "        vertical-align: top;\n",
       "    }\n",
       "\n",
       "    .dataframe thead th {\n",
       "        text-align: right;\n",
       "    }\n",
       "</style>\n",
       "<table border=\"1\" class=\"dataframe\">\n",
       "  <thead>\n",
       "    <tr style=\"text-align: right;\">\n",
       "      <th></th>\n",
       "      <th>emotion</th>\n",
       "      <th>pixels</th>\n",
       "    </tr>\n",
       "  </thead>\n",
       "  <tbody>\n",
       "    <tr>\n",
       "      <th>0</th>\n",
       "      <td>0</td>\n",
       "      <td>70 80 82 72 58 58 60 63 54 58 60 48 89 115 121...</td>\n",
       "    </tr>\n",
       "    <tr>\n",
       "      <th>1</th>\n",
       "      <td>0</td>\n",
       "      <td>151 150 147 155 148 133 111 140 170 174 182 15...</td>\n",
       "    </tr>\n",
       "    <tr>\n",
       "      <th>2</th>\n",
       "      <td>2</td>\n",
       "      <td>231 212 156 164 174 138 161 173 182 200 106 38...</td>\n",
       "    </tr>\n",
       "    <tr>\n",
       "      <th>3</th>\n",
       "      <td>4</td>\n",
       "      <td>24 32 36 30 32 23 19 20 30 41 21 22 32 34 21 1...</td>\n",
       "    </tr>\n",
       "    <tr>\n",
       "      <th>4</th>\n",
       "      <td>6</td>\n",
       "      <td>4 0 0 0 0 0 0 0 0 0 0 0 3 15 23 28 48 50 58 84...</td>\n",
       "    </tr>\n",
       "  </tbody>\n",
       "</table>\n",
       "</div>"
      ],
      "text/plain": [
       "   emotion                                             pixels\n",
       "0        0  70 80 82 72 58 58 60 63 54 58 60 48 89 115 121...\n",
       "1        0  151 150 147 155 148 133 111 140 170 174 182 15...\n",
       "2        2  231 212 156 164 174 138 161 173 182 200 106 38...\n",
       "3        4  24 32 36 30 32 23 19 20 30 41 21 22 32 34 21 1...\n",
       "4        6  4 0 0 0 0 0 0 0 0 0 0 0 3 15 23 28 48 50 58 84..."
      ]
     },
     "execution_count": 3,
     "metadata": {},
     "output_type": "execute_result"
    }
   ],
   "source": [
    "data_path = [\"C:/Users/Hicham el Marzgioui/Desktop/AI - Emotion Rec/data\"]\n",
    "file_path = os.sep.join(data_path + [FILE_NAME])\n",
    "data = pd.read_csv(file_path)\n",
    "data.drop(' Usage', axis=1, inplace=True)\n",
    "data = data.drop(index=WHITE_IMAGES, axis=0)\n",
    "\n",
    "data.head()"
   ]
  },
  {
   "cell_type": "code",
   "execution_count": 4,
   "id": "respiratory-break",
   "metadata": {},
   "outputs": [
    {
     "data": {
      "text/plain": [
       "(35875, 2)"
      ]
     },
     "execution_count": 4,
     "metadata": {},
     "output_type": "execute_result"
    }
   ],
   "source": [
    "data.shape"
   ]
  },
  {
   "cell_type": "code",
   "execution_count": 5,
   "id": "little-techno",
   "metadata": {},
   "outputs": [
    {
     "name": "stdout",
     "output_type": "stream",
     "text": [
      "(4946, 2)\n",
      "(547, 2)\n",
      "(5120, 2)\n",
      "(8988, 2)\n",
      "(6076, 2)\n",
      "(4001, 2)\n",
      "(6197, 2)\n"
     ]
    }
   ],
   "source": [
    "data_Angry = data[data['emotion'] == 0]\n",
    "data_Disgust = data[data['emotion'] == 1]\n",
    "data_Fear = data[data['emotion'] == 2]\n",
    "data_Happy = data[data['emotion'] == 3]\n",
    "data_Sad = data[data['emotion'] == 4]\n",
    "data_Surprise = data[data['emotion'] == 5]\n",
    "data_Neutral = data[data['emotion'] == 6]\n",
    "\n",
    "print(data_Angry.shape)\n",
    "print(data_Disgust.shape)\n",
    "print(data_Fear.shape)\n",
    "print(data_Happy.shape)\n",
    "print(data_Sad.shape)\n",
    "print(data_Surprise.shape)\n",
    "print(data_Neutral.shape)"
   ]
  },
  {
   "cell_type": "code",
   "execution_count": 6,
   "id": "bigger-humanity",
   "metadata": {},
   "outputs": [
    {
     "data": {
      "image/png": "[encoded data removed]",
      "text/plain": [
       "<Figure size 432x288 with 1 Axes>"
      ]
     },
     "metadata": {},
     "output_type": "display_data"
    }
   ],
   "source": [
    "%matplotlib inline\n",
    "\n",
    "sizes = [data_Angry.shape[0], data_Disgust.shape[0], data_Fear.shape[0], data_Happy.shape[0], data_Sad.shape[0], data_Surprise.shape[0], data_Neutral.shape[0]]\n",
    "# labels = ['Angry', 'Disgust', 'Fear', 'Happy', 'Sad', 'Surprise']\n",
    "\n",
    "fig, ax = plt.subplots()\n",
    "ax.pie(sizes, labels=CLASS_NAMES, autopct='%1.1f%%')\n",
    "ax.axis('equal')  # Equal aspect ratio ensures the pie chart is circular.\n",
    "ax.set_title('Emotions')\n",
    "\n",
    "\n",
    "plt.show()"
   ]
  },
  {
   "cell_type": "code",
   "execution_count": 7,
   "id": "acute-bulletin",
   "metadata": {},
   "outputs": [
    {
     "data": {
      "text/plain": [
       "(35328, 2)"
      ]
     },
     "execution_count": 7,
     "metadata": {},
     "output_type": "execute_result"
    }
   ],
   "source": [
    "data_exclude_disgust = data[data['emotion'] != 1] # Drops the emotion Disgust\n",
    "data_exclude_disgust.shape"
   ]
  },
  {
   "cell_type": "code",
   "execution_count": 8,
   "id": "statutory-squad",
   "metadata": {},
   "outputs": [
    {
     "data": {
      "image/png": "[encoded data removed]",
      "text/plain": [
       "<Figure size 432x288 with 1 Axes>"
      ]
     },
     "metadata": {},
     "output_type": "display_data"
    }
   ],
   "source": [
    "%matplotlib inline\n",
    "\n",
    "sizes = [data_Angry.shape[0], data_Fear.shape[0], data_Happy.shape[0], data_Sad.shape[0], data_Surprise.shape[0], data_Neutral.shape[0]]\n",
    "labels = ['Angry', 'Fear', 'Happy', 'Sad', 'Surprise', 'Neutral' ]\n",
    "\n",
    "fig, ax = plt.subplots()\n",
    "ax.pie(sizes, labels=labels, autopct='%1.1f%%')\n",
    "ax.axis('equal')  # Equal aspect ratio ensures the pie chart is circular.\n",
    "ax.set_title('Emotions')\n",
    "\n",
    "\n",
    "plt.show()"
   ]
  },
  {
   "cell_type": "code",
   "execution_count": 9,
   "id": "streaming-amber",
   "metadata": {},
   "outputs": [
    {
     "data": {
      "text/plain": [
       "(4001, 2)"
      ]
     },
     "execution_count": 9,
     "metadata": {},
     "output_type": "execute_result"
    }
   ],
   "source": [
    "data_Surprise.shape"
   ]
  },
  {
   "cell_type": "code",
   "execution_count": 10,
   "id": "expressed-summary",
   "metadata": {},
   "outputs": [
    {
     "name": "stdout",
     "output_type": "stream",
     "text": [
      "0    4001\n",
      "2    4001\n",
      "3    4001\n",
      "4    4001\n",
      "5    4001\n",
      "6    4001\n",
      "Name: emotion, dtype: int64\n",
      "       emotion                                             pixels\n",
      "13910        6  159 135 106 77 49 19 29 15 3 1 1 1 1 2 6 11 37...\n",
      "4075         3  44 48 47 61 68 51 51 55 43 52 60 50 57 72 60 5...\n",
      "20274        6  36 34 41 45 46 42 44 43 51 52 58 71 86 106 102...\n",
      "13242        6  21 21 21 28 30 37 39 41 41 40 42 41 47 48 50 5...\n",
      "8158         5  255 216 57 60 65 60 57 60 70 116 121 129 153 1...\n"
     ]
    }
   ],
   "source": [
    "from sklearn.utils import shuffle\n",
    "\n",
    "\n",
    "data_Angry_minimised = data_Angry.iloc[: data_Surprise.shape[0]]\n",
    "data_Fear_minimised = data_Fear.iloc[: data_Surprise.shape[0]]\n",
    "data_Happy_minimised = data_Happy.iloc[: data_Surprise.shape[0]]\n",
    "data_Sad_minimised = data_Sad.iloc[: data_Surprise.shape[0]]\n",
    "data_Surprise_minimised = data_Surprise.iloc[: data_Surprise.shape[0]]\n",
    "data_Neutral_minimised = data_Neutral.iloc[: data_Surprise.shape[0]]\n",
    "\n",
    "data_minimised = pd.concat([data_Angry_minimised, data_Fear_minimised, data_Happy_minimised, data_Sad_minimised, data_Surprise_minimised, data_Neutral_minimised])\n",
    "data_minimised = shuffle(data_minimised)\n",
    "# data_minimised = data_minimised.reindex(range(1,data_minimised.shape[0])) # Will reindex so the list has descending order, don't know if necessary\n",
    "print(data_minimised.emotion.value_counts())\n",
    "print(data_minimised.head()) # This dataset contains the no emotion disgust and is minimesed to the size of surpirse\n"
   ]
  },
  {
   "cell_type": "code",
   "execution_count": 11,
   "id": "brown-neutral",
   "metadata": {},
   "outputs": [
    {
     "data": {
      "image/png": "[encoded data removed]",
      "text/plain": [
       "<Figure size 432x288 with 1 Axes>"
      ]
     },
     "metadata": {},
     "output_type": "display_data"
    }
   ],
   "source": [
    "%matplotlib inline\n",
    "\n",
    "sizes = [data_Angry_minimised.shape[0], data_Fear_minimised.shape[0], data_Happy_minimised.shape[0], data_Sad_minimised.shape[0], data_Surprise_minimised.shape[0], data_Neutral_minimised.shape[0]]\n",
    "labels = ['Angry', 'Fear', 'Happy', 'Sad', 'Surprise', 'Neutral' ]\n",
    "\n",
    "fig, ax = plt.subplots()\n",
    "ax.pie(sizes, labels=labels, autopct='%1.1f%%')\n",
    "ax.axis('equal')  # Equal aspect ratio ensures the pie chart is circular.\n",
    "ax.set_title('Emotions')\n",
    "\n",
    "\n",
    "plt.show()"
   ]
  },
  {
   "cell_type": "code",
   "execution_count": 12,
   "id": "polyphonic-trader",
   "metadata": {},
   "outputs": [
    {
     "data": {
      "text/plain": [
       "(35875, 2)"
      ]
     },
     "execution_count": 12,
     "metadata": {},
     "output_type": "execute_result"
    }
   ],
   "source": [
    "data.shape"
   ]
  },
  {
   "cell_type": "code",
   "execution_count": 13,
   "id": "bigger-reply",
   "metadata": {},
   "outputs": [
    {
     "data": {
      "text/plain": [
       "1077     162 165 102 3 8 8 6 4 3 8 19 36 60 81 91 91 90...\n",
       "1677     25 32 27 27 41 49 62 65 48 41 51 55 65 70 70 7...\n",
       "19138    132 129 57 40 41 21 23 33 63 83 93 102 110 119...\n",
       "13693    72 93 118 137 150 171 179 176 172 167 151 134 ...\n",
       "14387    48 45 64 82 91 122 144 150 159 165 165 171 175...\n",
       "                               ...                        \n",
       "11028    37 31 24 23 27 22 25 35 36 26 33 30 24 21 29 3...\n",
       "1926     94 94 102 128 164 173 159 146 137 138 150 170 ...\n",
       "497      255 255 255 254 255 236 167 149 150 137 148 13...\n",
       "10557    107 100 80 79 94 96 78 91 83 82 76 69 70 75 73...\n",
       "16895    96 108 93 79 86 82 105 99 70 72 70 64 93 85 81...\n",
       "Name:  pixels, Length: 19204, dtype: object"
      ]
     },
     "execution_count": 13,
     "metadata": {},
     "output_type": "execute_result"
    }
   ],
   "source": [
    "X_data_minimised = data_minimised[data.columns[1]]\n",
    "y_data_minimised = data_minimised[data.columns[0]]\n",
    "\n",
    "X_train_minimised, X_test_minimised, y_train_minimised, y_test_minimised = train_test_split(X_data_minimised, y_data_minimised, test_size=0.2)\n",
    "\n",
    "X_train_minimised"
   ]
  },
  {
   "cell_type": "code",
   "execution_count": 14,
   "id": "generous-balance",
   "metadata": {},
   "outputs": [
    {
     "data": {
      "text/plain": [
       "8988"
      ]
     },
     "execution_count": 14,
     "metadata": {},
     "output_type": "execute_result"
    }
   ],
   "source": [
    "data_Happy.shape[0] # Most rows in dataset"
   ]
  },
  {
   "cell_type": "code",
   "execution_count": 15,
   "id": "driving-capacity",
   "metadata": {},
   "outputs": [
    {
     "name": "stdout",
     "output_type": "stream",
     "text": [
      "0    8988\n",
      "2    8988\n",
      "3    8988\n",
      "4    8988\n",
      "5    8988\n",
      "6    8988\n",
      "Name: emotion, dtype: int64\n",
      "       emotion                                             pixels\n",
      "24348        0  148 148 148 148 148 144 141 143 140 139 142 13...\n",
      "15771        0  144 149 129 114 119 124 125 135 145 141 147 15...\n",
      "21408        5  248 248 248 247 247 247 248 248 248 247 247 24...\n",
      "5607         0  143 164 149 110 71 17 48 125 128 128 136 128 8...\n",
      "9964         2  210 196 226 214 189 218 219 214 203 138 168 19...\n"
     ]
    }
   ],
   "source": [
    "data_Angry_Maximised = data_Angry.sample(data_Happy.shape[0], replace=True)\n",
    "data_Fear_Maximised = data_Fear.sample(data_Happy.shape[0], replace=True)\n",
    "data_Sad_Maximised = data_Sad.sample(data_Happy.shape[0], replace=True)\n",
    "data_Surprise_Maximised = data_Surprise.sample(data_Happy.shape[0], replace=True)\n",
    "data_Neutral_Maximised = data_Neutral.sample(data_Happy.shape[0], replace=True)\n",
    "\n",
    "data_maximised = pd.concat([data_Angry_Maximised,data_Fear_Maximised,data_Happy,data_Sad_Maximised,data_Surprise_Maximised,data_Neutral_Maximised])\n",
    "data_maximised = shuffle(data_maximised)\n",
    "\n",
    "print(data_maximised.emotion.value_counts())\n",
    "print(data_maximised.head())"
   ]
  },
  {
   "cell_type": "code",
   "execution_count": 32,
   "id": "obvious-management",
   "metadata": {},
   "outputs": [
    {
     "name": "stdout",
     "output_type": "stream",
     "text": [
      "0    8988\n",
      "2    8988\n",
      "3    8988\n",
      "4    8988\n",
      "5    8988\n",
      "6    8988\n",
      "Name: emotion, dtype: int64\n",
      "0    4001\n",
      "2    4001\n",
      "3    4001\n",
      "4    4001\n",
      "5    4001\n",
      "6    4001\n",
      "Name: emotion, dtype: int64\n"
     ]
    }
   ],
   "source": [
    "# pip install -U imbalanced-learn\n",
    "from imblearn.over_sampling import SMOTE\n",
    "from imblearn.over_sampling import RandomOverSampler\n",
    "from imblearn.under_sampling import RandomUnderSampler\n",
    "\n",
    "data_exclude_disgust = data[data['emotion'] != 1] # Drops the emotion Disgust\n",
    "\n",
    "X = data_exclude_disgust.drop('emotion', axis='columns')\n",
    "y = data_exclude_disgust['emotion']\n",
    "\n",
    "ros = RandomOverSampler()\n",
    "rus = RandomUnderSampler()\n",
    "\n",
    "# smote = SMOTE()\n",
    "# X_sm, y_sm = smote.fit_resample(X,y)\n",
    "\n",
    "X_ros, y_ros = ros.fit_resample(X,y) # This data is oversampled\n",
    "X_rus, y_rus = rus.fit_resample(X,y) # This data is undersampled\n",
    "\n",
    "print(y_ros.value_counts())\n",
    "print(y_rus.value_counts())\n"
   ]
  },
  {
   "cell_type": "code",
   "execution_count": null,
   "id": "handy-examination",
   "metadata": {},
   "outputs": [],
   "source": []
  }
 ],
 "metadata": {
  "kernelspec": {
   "display_name": "Python 3",
   "language": "python",
   "name": "python3"
  },
  "language_info": {
   "codemirror_mode": {
    "name": "ipython",
    "version": 3
   },
   "file_extension": ".py",
   "mimetype": "text/x-python",
   "name": "python",
   "nbconvert_exporter": "python",
   "pygments_lexer": "ipython3",
   "version": "3.8.5"
  }
 },
 "nbformat": 4,
 "nbformat_minor": 5
}
