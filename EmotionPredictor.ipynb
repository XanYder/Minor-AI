{
 "cells": [
  {
   "cell_type": "code",
   "execution_count": 1,
   "id": "ff72b38b",
   "metadata": {},
   "outputs": [],
   "source": [
    "import tensorflow as tf\n",
    "from resizeimage import resizeimage\n",
    "from PIL import Image, ImageOps\n",
    "import numpy as np\n",
    "import cv2"
   ]
  },
  {
   "cell_type": "code",
   "execution_count": 3,
   "id": "b8e7d73c",
   "metadata": {},
   "outputs": [],
   "source": [
    "CLASS_NAMES_WITHOUT_DISGUST = [\"Angry\", \"Fear\", \"Happy\", \"Sad\", \"Surprise\", \"Neutral\"]"
   ]
  },
  {
   "cell_type": "code",
   "execution_count": 15,
   "id": "fb4c9db3",
   "metadata": {},
   "outputs": [],
   "source": [
    "CNNModel6 = tf.keras.models.load_model(\"C:/Users/Xander/Downloads/CNNModel6\")\n",
    "CNNModel4 = tf.keras.models.load_model(\"C:/Users/Xander/Downloads/CNNmodel4\")\n",
    "CNNModel5 = tf.keras.models.load_model(\"C:/Users/Xander/Downloads/CNNmodel5\")\n",
    "\n",
    "import joblib\n",
    "randomForestModel = joblib.load(\"RandomForest-Augmented9-Oversampled-Accuracy83.66.joblib\")"
   ]
  },
  {
   "cell_type": "code",
   "execution_count": 5,
   "id": "43f5dd31",
   "metadata": {},
   "outputs": [],
   "source": [
    "def predict(image):\n",
    "    rgb_image = cv2.cvtColor(np.float32(image), cv2.COLOR_GRAY2RGB)\n",
    "    rgb_image = rgb_image.reshape(1, 48, 48, 3)\n",
    "    image = image.reshape(1, 48, 48, 1)\n",
    "    \n",
    "    CNNModel4_predictions = CNNModel4.predict(image)\n",
    "    CNNModel5_predictions = CNNModel5.predict(image)\n",
    "    \n",
    "    CNNModel6_predictions = CNNModel6.predict(rgb_image) # This transfer learning model expects rgb input\n",
    "    \n",
    "    return CNNModel4_predictions, CNNModel5_predictions, CNNModel6_predictions\n",
    "    \n",
    "\n",
    "def preprocess_image(image):\n",
    "    image = resizeimage.resize_cover(image, [48,48])\n",
    "    image = ImageOps.grayscale(image)\n",
    "    image = np.array(image)\n",
    "    image = image.astype(\"int32\")\n",
    "    image = image/255.0\n",
    "    image = image.reshape(48, 48, 1)\n",
    "    return image"
   ]
  },
  {
   "cell_type": "code",
   "execution_count": 6,
   "id": "f455eb1b",
   "metadata": {},
   "outputs": [],
   "source": [
    "def import_test_sample(test_path):\n",
    "    with open(test_path, 'r+b') as f:\n",
    "        with Image.open(f) as image:\n",
    "            test_image = resizeimage.resize_cover(image, [48,48])\n",
    "    return test_image"
   ]
  },
  {
   "cell_type": "code",
   "execution_count": 20,
   "id": "7a54cc19",
   "metadata": {},
   "outputs": [],
   "source": [
    "def predictCombined(predictions):\n",
    "    y_pred = np.array([0,0,0,0,0,0])\n",
    "    \n",
    "    for prediction in predictions:\n",
    "        y_pred = y_pred + np.array(prediction)\n",
    "    return y_pred"
   ]
  },
  {
   "cell_type": "code",
   "execution_count": 16,
   "id": "1a0cd9b0",
   "metadata": {},
   "outputs": [],
   "source": [
    "#pip install opencv-python\n",
    "import cv2\n",
    "import time\n",
    "\n",
    "def click_and_crop(event, x, y, flags, param):\n",
    "    global refPt, cropping\n",
    "    # if the left mouse button was clicked, record the starting\n",
    "    # (x, y) coordinates and indicate that cropping is being\n",
    "    # performed\n",
    "    if event == cv2.EVENT_LBUTTONDOWN:\n",
    "        refPt = [(x, y)]\n",
    "        cropping = True\n",
    "        # check to see if the left mouse button was released\n",
    "    elif event == cv2.EVENT_LBUTTONUP:\n",
    "        # record the ending (x, y) coordinates and indicate that\n",
    "        # the cropping operation is finished\n",
    "        refPt.append((x, y))\n",
    "        cropping = False\n",
    "        # draw a rectangle around the region of interest\n",
    "        #cv2.rectangle(image, refPt[0], refPt[1], (0, 255, 0), 2)\n",
    "        #cv2.imshow(\"my webcam\", image)"
   ]
  },
  {
   "cell_type": "code",
   "execution_count": 22,
   "id": "18f721a8",
   "metadata": {},
   "outputs": [
    {
     "name": "stdout",
     "output_type": "stream",
     "text": [
      "Predicted emotion:\n",
      " Sad\n"
     ]
    },
    {
     "data": {
      "image/png": "[encoded data removed]",
      "text/plain": [
       "<Figure size 432x288 with 1 Axes>"
      ]
     },
     "metadata": {
      "needs_background": "light"
     },
     "output_type": "display_data"
    }
   ],
   "source": [
    "from IPython.display import clear_output, display\n",
    "import matplotlib.pyplot as plt\n",
    "%matplotlib inline\n",
    "\n",
    "refPt = []\n",
    "cam = cv2.VideoCapture(0) # Put here another number for another cam\n",
    "if cam.isOpened():  # try to get the first frame\n",
    "    print('Cam is found')\n",
    "else:\n",
    "    print(\"Cam is not found\")\n",
    "\n",
    "while True:\n",
    "    ret_val, img = cam.read()\n",
    "    if ret_val == False:\n",
    "        cam.release()\n",
    "        print(\"Cam is not working correctly\")\n",
    "    if cv2.waitKey(1) == 27: \n",
    "        break  # esc to quit\n",
    "    if len(refPt) == 2:\n",
    "        roi = img[refPt[0][1]:refPt[1][1], refPt[0][0]:refPt[1][0]]\n",
    "        cv2.imshow(\"Cropped Webcam\", roi)\n",
    "        \n",
    "        test_image = cv2.resize(roi, [48,48])\n",
    "        test_image = Image.fromarray(test_image)\n",
    "        test_image = ImageOps.grayscale(test_image)\n",
    "\n",
    "        image1 = preprocess_image(test_image)\n",
    "        CNNModel4_predictions, CNNModel5_predictions, CNNModel6_predictions = predict(image1)\n",
    "\n",
    "        predictions = [CNNModel4_predictions, CNNModel5_predictions, CNNModel6_predictions]\n",
    "\n",
    "        test_image = ImageOps.grayscale(test_image)\n",
    "\n",
    "        test_image = np.array(test_image)\n",
    "        test_image = test_image.astype(\"int32\")\n",
    "        test_image = test_image/255.0\n",
    "        test_image = test_image.reshape(48, 48, 1)\n",
    "\n",
    "        predictions.append(randomForestModel.predict_proba(np.reshape(test_image, (1, 2304)))[0])\n",
    "            \n",
    "        y_pred = predictCombined(predictions)\n",
    "        \n",
    "        clear_output(wait=True)\n",
    "        \n",
    "        print(\"Predicted emotion:\\n\", CLASS_NAMES_WITHOUT_DISGUST[np.argmax(y_pred[0])])\n",
    "        \n",
    "        plt.bar(CLASS_NAMES_WITHOUT_DISGUST, y_pred[0])\n",
    "        plt.show()\n",
    "\n",
    "    else:\n",
    "        cv2.imshow('Webcam (not cropped)', img)\n",
    "        cv2.setMouseCallback(\"Webcam (not cropped)\", click_and_crop)\n",
    "\n",
    "cv2.destroyAllWindows()"
   ]
  },
  {
   "cell_type": "code",
   "execution_count": null,
   "id": "127bc578",
   "metadata": {},
   "outputs": [],
   "source": []
  }
 ],
 "metadata": {
  "kernelspec": {
   "display_name": "Python 3",
   "language": "python",
   "name": "python3"
  },
  "language_info": {
   "codemirror_mode": {
    "name": "ipython",
    "version": 3
   },
   "file_extension": ".py",
   "mimetype": "text/x-python",
   "name": "python",
   "nbconvert_exporter": "python",
   "pygments_lexer": "ipython3",
   "version": "3.9.4"
  }
 },
 "nbformat": 4,
 "nbformat_minor": 5
}
