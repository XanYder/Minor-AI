{
 "cells": [
  {
   "cell_type": "markdown",
   "id": "6da628af",
   "metadata": {},
   "source": [
    "You can download all the neccesary models for this script here: https://drive.google.com/drive/folders/1aqpLhtbm3Yhs2eAMOiuhLTH2T1tsO0k3?usp=sharing. You have to extract everything from the downloaded zip. \n",
    "\n",
    "Use 'pip install -r requirements.txt' where requirements.txt is the path to the requirements file downloaded, to install all the packages needed to run this script."
   ]
  },
  {
   "cell_type": "code",
   "execution_count": null,
   "id": "f8479981",
   "metadata": {},
   "outputs": [],
   "source": [
    "import tensorflow as tf\n",
    "from resizeimage import resizeimage\n",
    "from PIL import Image, ImageOps\n",
    "import numpy as np\n",
    "import cv2\n",
    "import joblib\n",
    "from IPython.display import clear_output, display\n",
    "import matplotlib.pyplot as plt\n",
    "%matplotlib inline"
   ]
  },
  {
   "cell_type": "code",
   "execution_count": null,
   "id": "573bc67b",
   "metadata": {},
   "outputs": [],
   "source": [
    "CLASS_NAMES_WITHOUT_DISGUST = [\"Angry\", \"Fear\", \"Happy\", \"Sad\", \"Surprise\", \"Neutral\"]"
   ]
  },
  {
   "cell_type": "markdown",
   "id": "2aebdd65",
   "metadata": {},
   "source": [
    "In CNNModel1 you should put the path to the folder called 'CNNmodel3'.\n",
    "In CNNModel2 you should put the path to the folder called 'CNNmodel6'.\n",
    "\n",
    "In sgdModel you should put the path to the file called '39.74%_Smote_SGD.joblib'"
   ]
  },
  {
   "cell_type": "code",
   "execution_count": null,
   "id": "c4ea3bfa",
   "metadata": {},
   "outputs": [],
   "source": [
    "CNNModel1 = tf.keras.models.load_model(\"\")\n",
    "CNNModel2 = tf.keras.models.load_model(\"\")\n",
    "\n",
    "sgdModel = joblib.load(\"\")"
   ]
  },
  {
   "cell_type": "code",
   "execution_count": null,
   "id": "af76448a",
   "metadata": {},
   "outputs": [],
   "source": [
    "def predict(image):\n",
    "    rgb_image = cv2.cvtColor(np.float32(image), cv2.COLOR_GRAY2RGB)\n",
    "    rgb_image = rgb_image.reshape(1, 48, 48, 3)\n",
    "    image = image.reshape(1, 48, 48, 1)\n",
    "    \n",
    "    CNNModel1_predictions = CNNModel1.predict(image)\n",
    "  \n",
    "    CNNModel2_predictions = CNNModel2.predict(rgb_image) # This transfer learning model expects rgb input\n",
    "    \n",
    "    return CNNModel1_predictions, CNNModel2_predictions\n",
    "    \n",
    "\n",
    "def preprocess_image(image):\n",
    "    image = resizeimage.resize_cover(image, [48,48])\n",
    "    image = ImageOps.grayscale(image)\n",
    "    image = np.array(image)\n",
    "    image = image.astype(\"int32\")\n",
    "    image = image/255.0\n",
    "    image = image.reshape(48, 48, 1)\n",
    "    return image"
   ]
  },
  {
   "cell_type": "code",
   "execution_count": null,
   "id": "6fe55085",
   "metadata": {},
   "outputs": [],
   "source": [
    "def import_test_sample(test_path):\n",
    "    with open(test_path, 'r+b') as f:\n",
    "        with Image.open(f) as image:\n",
    "            test_image = resizeimage.resize_cover(image, [48,48])\n",
    "    return test_image"
   ]
  },
  {
   "cell_type": "code",
   "execution_count": null,
   "id": "3e81d65d",
   "metadata": {},
   "outputs": [],
   "source": [
    "def predictCombined(predictions):\n",
    "    y_pred = np.array([0,0,0,0,0,0])\n",
    "    \n",
    "    for prediction in predictions:\n",
    "        y_pred = y_pred + np.array(prediction)\n",
    "    return y_pred"
   ]
  },
  {
   "cell_type": "code",
   "execution_count": null,
   "id": "4385d592",
   "metadata": {},
   "outputs": [],
   "source": [
    "def click_and_crop(event, x, y, flags, param):\n",
    "    global refPt, cropping\n",
    "    if event == cv2.EVENT_LBUTTONDOWN:\n",
    "        refPt = [(x, y)]\n",
    "        cropping = True\n",
    "    elif event == cv2.EVENT_LBUTTONUP:\n",
    "        refPt.append((x, y))\n",
    "        cropping = False"
   ]
  },
  {
   "cell_type": "markdown",
   "id": "a7c68066",
   "metadata": {},
   "source": [
    "This function will get your webcam and open a window. You should drag a square to crop the window. This cropped window will be used to predict the emotion, it should only show your face. \n",
    "\n",
    "It will show the prediction in the output and the prediction distribution. "
   ]
  },
  {
   "cell_type": "code",
   "execution_count": null,
   "id": "1c94544d",
   "metadata": {
    "scrolled": false
   },
   "outputs": [],
   "source": [
    "refPt = []\n",
    "cam = cv2.VideoCapture(0) # Put here another number for another cam\n",
    "if cam.isOpened():  # try to get the first frame\n",
    "    print('Cam is found')\n",
    "else:\n",
    "    print(\"Cam is not found\")\n",
    "\n",
    "while True:\n",
    "    ret_val, img = cam.read()\n",
    "    if ret_val == False:\n",
    "        cam.release()\n",
    "        print(\"Cam is not working correctly\")\n",
    "    if cv2.waitKey(1) == 27: \n",
    "        break  # esc to quit\n",
    "    if len(refPt) == 2:\n",
    "        roi = img[refPt[0][1]:refPt[1][1], refPt[0][0]:refPt[1][0]]\n",
    "        cv2.imshow(\"Cropped Webcam\", roi)\n",
    "        \n",
    "        test_image = cv2.resize(roi, [48,48])\n",
    "        test_image = Image.fromarray(test_image)\n",
    "        test_image = ImageOps.grayscale(test_image)\n",
    "\n",
    "        image1 = preprocess_image(test_image)\n",
    "        CNNModel1_predictions, CNNModel2_predictions = predict(image1)\n",
    "\n",
    "        predictions = [CNNModel1_predictions, CNNModel2_predictions]\n",
    "\n",
    "        test_image = ImageOps.grayscale(test_image)\n",
    "\n",
    "        test_image = np.array(test_image)\n",
    "        test_image = test_image.astype(\"int32\")\n",
    "        test_image = test_image/255.0\n",
    "        test_image = test_image.reshape(48, 48, 1)\n",
    "\n",
    "        predictions.append(sgdModel.predict_proba(np.reshape(test_image, (1, 2304)))[0])\n",
    "        \n",
    "        y_pred = predictCombined(predictions)\n",
    "        \n",
    "        clear_output(wait=True)\n",
    "        \n",
    "        print(\"Predicted emotion:\\n\", CLASS_NAMES_WITHOUT_DISGUST[np.argmax(y_pred[0])])\n",
    "        \n",
    "        plt.bar(CLASS_NAMES_WITHOUT_DISGUST, y_pred[0])\n",
    "        plt.show()\n",
    "\n",
    "    else:\n",
    "        cv2.imshow('Webcam (not cropped)', img)\n",
    "        cv2.setMouseCallback(\"Webcam (not cropped)\", click_and_crop)\n",
    "\n",
    "cam.release()\n",
    "cv2.destroyAllWindows()"
   ]
  },
  {
   "cell_type": "markdown",
   "id": "e4288f51",
   "metadata": {},
   "source": [
    "This cell can be used to predict a single image, you can put the path to the image in the first line."
   ]
  },
  {
   "cell_type": "code",
   "execution_count": null,
   "id": "a13adf1c",
   "metadata": {},
   "outputs": [],
   "source": [
    "test_image = import_test_sample(\"\")\n",
    "\n",
    "image1 = preprocess_image(test_image)\n",
    "CNNModel1_predictions, CNNModel2_predictions = predict(image1)\n",
    "\n",
    "predictions = [CNNModel1_predictions, CNNModel2_predictions]\n",
    "\n",
    "test_image = ImageOps.grayscale(test_image)\n",
    "\n",
    "test_image = np.array(test_image)\n",
    "test_image = test_image.astype(\"int32\")\n",
    "test_image = test_image/255.0\n",
    "test_image = test_image.reshape(48, 48, 1)\n",
    "\n",
    "predictions.append(sgdModel.predict_proba(np.reshape(test_image, (1, 2304)))[0])\n",
    "\n",
    "y_pred = predictCombined(predictions)\n",
    "\n",
    "clear_output(wait=True)\n",
    "\n",
    "print(\"Predicted emotion:\\n\", CLASS_NAMES_WITHOUT_DISGUST[np.argmax(y_pred[0])])\n",
    "\n",
    "plt.bar(CLASS_NAMES_WITHOUT_DISGUST, y_pred[0])\n",
    "plt.show()"
   ]
  },
  {
   "cell_type": "code",
   "execution_count": null,
   "id": "7d54f751",
   "metadata": {},
   "outputs": [],
   "source": []
  }
 ],
 "metadata": {
  "kernelspec": {
   "display_name": "Python 3",
   "language": "python",
   "name": "python3"
  },
  "language_info": {
   "codemirror_mode": {
    "name": "ipython",
    "version": 3
   },
   "file_extension": ".py",
   "mimetype": "text/x-python",
   "name": "python",
   "nbconvert_exporter": "python",
   "pygments_lexer": "ipython3",
   "version": "3.9.4"
  }
 },
 "nbformat": 4,
 "nbformat_minor": 5
}
