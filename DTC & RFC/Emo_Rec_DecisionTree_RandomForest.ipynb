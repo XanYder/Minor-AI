{
 "cells": [
  {
   "cell_type": "code",
   "execution_count": 2,
   "id": "amended-sierra",
   "metadata": {},
   "outputs": [],
   "source": [
    "# Save this file in the name of the ML model you are using\n",
    "import pandas as pd\n",
    "import numpy as np\n",
    "import os"
   ]
  },
  {
   "cell_type": "code",
   "execution_count": 42,
   "id": "lonely-accountability",
   "metadata": {},
   "outputs": [],
   "source": [
    "# Website for the dataset:\n",
    "# https://www.kaggle.com/c/challenges-in-representation-learning-facial-expression-recognition-challenge/data?select=icml_face_data.csv\n",
    "CLASS_NAMES = [\"Angry\", \"Disgust\", \"Fear\", \"Happy\", \"Sad\", \"Surprise\", \"Neutral\"]\n",
    "CLASS_NAMES = [\"Angry\", \"Fear\", \"Happy\", \"Sad\", \"Surprise\", \"Neutral\"]\n",
    "FILE_NAME = \"train.csv\" # Insert file name\n",
    "WHITE_IMAGES = [6458,  7629, 10423, 11286, 13148, 13402, 13988, 15894, 22198, 22927, 28601, 59]"
   ]
  },
  {
   "cell_type": "code",
   "execution_count": 96,
   "id": "julian-redhead",
   "metadata": {},
   "outputs": [
    {
     "data": {
      "text/html": [
       "<div>\n",
       "<style scoped>\n",
       "    .dataframe tbody tr th:only-of-type {\n",
       "        vertical-align: middle;\n",
       "    }\n",
       "\n",
       "    .dataframe tbody tr th {\n",
       "        vertical-align: top;\n",
       "    }\n",
       "\n",
       "    .dataframe thead th {\n",
       "        text-align: right;\n",
       "    }\n",
       "</style>\n",
       "<table border=\"1\" class=\"dataframe\">\n",
       "  <thead>\n",
       "    <tr style=\"text-align: right;\">\n",
       "      <th></th>\n",
       "      <th>emotion</th>\n",
       "      <th>pixels</th>\n",
       "      <th>Original</th>\n",
       "    </tr>\n",
       "  </thead>\n",
       "  <tbody>\n",
       "    <tr>\n",
       "      <th>0</th>\n",
       "      <td>0</td>\n",
       "      <td>70 80 82 72 58 58 60 63 54 58 60 48 89 115 121...</td>\n",
       "      <td>True</td>\n",
       "    </tr>\n",
       "    <tr>\n",
       "      <th>1</th>\n",
       "      <td>0</td>\n",
       "      <td>161 161 163 167 170 170 169 169 167 163 155 14...</td>\n",
       "      <td>False</td>\n",
       "    </tr>\n",
       "    <tr>\n",
       "      <th>2</th>\n",
       "      <td>0</td>\n",
       "      <td>31 38 43 40 33 40 42 37 34 40 47 49 52 68 82 7...</td>\n",
       "      <td>False</td>\n",
       "    </tr>\n",
       "    <tr>\n",
       "      <th>3</th>\n",
       "      <td>0</td>\n",
       "      <td>47 44 48 49 44 44 51 55 60 64 76 95 98 100 137...</td>\n",
       "      <td>False</td>\n",
       "    </tr>\n",
       "    <tr>\n",
       "      <th>4</th>\n",
       "      <td>0</td>\n",
       "      <td>20 30 20 13 32 38 41 44 47 46 43 40 41 61 87 9...</td>\n",
       "      <td>False</td>\n",
       "    </tr>\n",
       "  </tbody>\n",
       "</table>\n",
       "</div>"
      ],
      "text/plain": [
       "   emotion                                             pixels  Original\n",
       "0        0  70 80 82 72 58 58 60 63 54 58 60 48 89 115 121...      True\n",
       "1        0  161 161 163 167 170 170 169 169 167 163 155 14...     False\n",
       "2        0  31 38 43 40 33 40 42 37 34 40 47 49 52 68 82 7...     False\n",
       "3        0  47 44 48 49 44 44 51 55 60 64 76 95 98 100 137...     False\n",
       "4        0  20 30 20 13 32 38 41 44 47 46 43 40 41 61 87 9...     False"
      ]
     },
     "execution_count": 96,
     "metadata": {},
     "output_type": "execute_result"
    }
   ],
   "source": [
    "data_path = [\"../data\"] # Insert data file path\n",
    "file_path = os.sep.join(data_path + [FILE_NAME])\n",
    "data = pd.read_csv(\"face_augmentated_9.csv\")\n",
    "data = data.drop(index=WHITE_IMAGES, axis=0)\n",
    "\n",
    "# If icml_face_data.csv is used\n",
    "# data.drop(' Usage', axis=1, inplace=True)\n",
    "\n",
    "data.head()"
   ]
  },
  {
   "cell_type": "code",
   "execution_count": 88,
   "id": "destroyed-dialogue",
   "metadata": {},
   "outputs": [
    {
     "data": {
      "text/plain": [
       "(241643, 3)"
      ]
     },
     "execution_count": 88,
     "metadata": {},
     "output_type": "execute_result"
    }
   ],
   "source": [
    "data_exclude_disgust = data[data['emotion'] != 1] # Drops the emotion Disgust\n",
    "data_exclude_disgust.shape"
   ]
  },
  {
   "cell_type": "code",
   "execution_count": 103,
   "id": "aboriginal-channel",
   "metadata": {},
   "outputs": [],
   "source": [
    "def data_X_y(data):\n",
    "    # Split data into X & y\n",
    "    X = data.drop('emotion', axis='columns')\n",
    "    y = data['emotion']\n",
    "\n",
    "    # Reshapes X into 3D array\n",
    "    X = [pixels.split(\" \") for pixels in data[\"pixels\"]]\n",
    "    X = np.array(X)\n",
    "    X = X.astype(\"int32\")\n",
    "    X = np.array([image.reshape(48, 48) for image in X])\n",
    "    X = X/255.0\n",
    "    X = X.reshape(len(X), 48, 48, 1)\n",
    "    \n",
    "    return X,y"
   ]
  },
  {
   "cell_type": "code",
   "execution_count": 104,
   "id": "cleared-religious",
   "metadata": {},
   "outputs": [
    {
     "name": "stdout",
     "output_type": "stream",
     "text": [
      "1.0\n",
      "(282598, 48, 48, 1)\n",
      "0.0 1.0\n",
      "(282598,)\n"
     ]
    }
   ],
   "source": [
    "X,y = data_X_y(data)\n",
    "\n",
    "print(X.max())\n",
    "print(X.shape)\n",
    "print(X.min(), X.max())\n",
    "print(y.shape)"
   ]
  },
  {
   "cell_type": "code",
   "execution_count": 105,
   "id": "eastern-contest",
   "metadata": {},
   "outputs": [],
   "source": [
    "from builtins import range\n",
    "from builtins import object\n",
    "\n",
    "def reshape_X(X):\n",
    "    num_training = X.shape[0]\n",
    "    mask = list(range(num_training))\n",
    "    X_reshape = X[mask]\n",
    "\n",
    "    # Reshape the image data into rows\n",
    "    X_reshape = np.reshape(X, (X.shape[0], -1))\n",
    "    \n",
    "    return X_reshape"
   ]
  },
  {
   "cell_type": "code",
   "execution_count": 106,
   "id": "annual-above",
   "metadata": {},
   "outputs": [
    {
     "name": "stdout",
     "output_type": "stream",
     "text": [
      "(282598, 48, 48, 1)\n",
      "(282598, 2304)\n"
     ]
    }
   ],
   "source": [
    "print(X.shape)\n",
    "X = reshape_X(X)\n",
    "print(X.shape)"
   ]
  },
  {
   "cell_type": "code",
   "execution_count": 107,
   "id": "passing-learning",
   "metadata": {},
   "outputs": [
    {
     "name": "stdout",
     "output_type": "stream",
     "text": [
      "0    72139\n",
      "1    72139\n",
      "2    72139\n",
      "3    72139\n",
      "4    72139\n",
      "5    72139\n",
      "Name: emotion, dtype: int64\n"
     ]
    }
   ],
   "source": [
    "# pip install -U imbalanced-learn\n",
    "from imblearn.over_sampling import RandomOverSampler\n",
    "from imblearn.under_sampling import RandomUnderSampler\n",
    "from imblearn.over_sampling import SMOTE\n",
    "\n",
    "rus = RandomUnderSampler()\n",
    "ros = RandomOverSampler()\n",
    "smote = SMOTE()\n",
    "\n",
    "#X_rus, y_rus = rus.fit_resample(X,y) # This data is undersampled\n",
    "X_ros, y_ros = ros.fit_resample(X,y) # This data is oversampled\n",
    "#X_smote, y_smote = smote.fit_resample(X,y) # This data is oversampled with smote\n",
    "\n",
    "#print(y_rus.value_counts())\n",
    "print(y_ros.value_counts())\n",
    "#print(y_smote.value_counts())"
   ]
  },
  {
   "cell_type": "code",
   "execution_count": 50,
   "id": "patent-holder",
   "metadata": {},
   "outputs": [
    {
     "name": "stdout",
     "output_type": "stream",
     "text": [
      "43284\n",
      "41663\n",
      "43284\n",
      "27092\n",
      "19020\n",
      "18177\n"
     ]
    }
   ],
   "source": [
    "# Checks the unique rows in the array for smote, ros & rus\n",
    "print(len(X_smote))\n",
    "print(len(np.unique(X_smote, axis=0)))\n",
    "print(len(X_ros))\n",
    "print(len(np.unique(X_ros, axis=0)))\n",
    "print(len(X_rus))\n",
    "print(len(np.unique(X_rus, axis=0)))"
   ]
  },
  {
   "cell_type": "code",
   "execution_count": 108,
   "id": "according-median",
   "metadata": {},
   "outputs": [],
   "source": [
    "def plot_train_test_distribution(y,loc='left', relative=True):\n",
    "    width = 0.35\n",
    "    CLASS_NAMES_WITHOUT_DISGUST = [\"Angry\", \"Fear\", \"Happy\", \"Sad\", \"Surprise\", \"Neutral\"]\n",
    "\n",
    "    if loc == 'left':\n",
    "        n = -0.5\n",
    "    elif loc == 'right':\n",
    "        n = 0.5\n",
    "     \n",
    "    # calculate counts per type and sort, to ensure their order\n",
    "    unique, counts = np.unique(y, return_counts=True)\n",
    "    sorted_index = np.argsort(unique)\n",
    "\n",
    "    if relative:\n",
    "        # plot as a percentage\n",
    "        counts = 100*counts[sorted_index]/len(y)\n",
    "        ylabel_text = '% count'\n",
    "    else:\n",
    "        # plot counts\n",
    "        counts = counts[sorted_index]\n",
    "        ylabel_text = 'count'\n",
    "         \n",
    "    xtemp = np.arange(len(unique))\n",
    "    \n",
    "    plt.bar(xtemp + n*width, counts, align='center', alpha=.7, width=width)\n",
    "    plt.xticks(xtemp, CLASS_NAMES_WITHOUT_DISGUST, rotation=45)\n",
    "    plt.xlabel('equipment type')\n",
    "    plt.ylabel(ylabel_text)\n",
    "    plt.suptitle('relative amount of images per type')\n",
    "    "
   ]
  },
  {
   "cell_type": "code",
   "execution_count": 52,
   "id": "amazing-prescription",
   "metadata": {},
   "outputs": [
    {
     "data": {
      "image/png": "[encoded data removed]",
      "text/plain": [
       "<Figure size 432x288 with 1 Axes>"
      ]
     },
     "metadata": {
      "needs_background": "light"
     },
     "output_type": "display_data"
    }
   ],
   "source": [
    "from sklearn.model_selection import train_test_split\n",
    " \n",
    "X_train, X_test, y_train, y_test = train_test_split(\n",
    "    X, \n",
    "    y, \n",
    "    test_size=0.2, \n",
    "    shuffle=True,\n",
    "    random_state=42,\n",
    ")\n",
    "\n",
    "plot_train_test_distribution(y_train, loc='left')\n",
    "plot_train_test_distribution(y_test, loc='right')\n",
    "plt.legend([\n",
    "    'train ({0} photos)'.format(len(y_train)), \n",
    "    'test ({0} photos)'.format(len(y_test))\n",
    "]);"
   ]
  },
  {
   "cell_type": "code",
   "execution_count": 53,
   "id": "compatible-designer",
   "metadata": {},
   "outputs": [
    {
     "data": {
      "image/png": "[encoded data removed]",
      "text/plain": [
       "<Figure size 432x288 with 1 Axes>"
      ]
     },
     "metadata": {
      "needs_background": "light"
     },
     "output_type": "display_data"
    }
   ],
   "source": [
    "X_train_rus, X_test_rus, y_train_rus, y_test_rus = train_test_split(\n",
    "    X_rus, \n",
    "    y_rus, \n",
    "    test_size=0.2, \n",
    "    shuffle=True,\n",
    "    random_state=42,\n",
    ")\n",
    "\n",
    "plot_train_test_distribution(y_train_rus, loc='left')\n",
    "plot_train_test_distribution(y_test_rus, loc='right')\n",
    "plt.legend([\n",
    "    'train ({0} photos)'.format(len(y_train_rus)), \n",
    "    'test ({0} photos)'.format(len(y_test_rus))\n",
    "]);"
   ]
  },
  {
   "cell_type": "code",
   "execution_count": 109,
   "id": "outer-analyst",
   "metadata": {},
   "outputs": [
    {
     "data": {
      "image/png": "[encoded data removed]",
      "text/plain": [
       "<Figure size 432x288 with 1 Axes>"
      ]
     },
     "metadata": {
      "needs_background": "light"
     },
     "output_type": "display_data"
    }
   ],
   "source": [
    "X_train_ros, X_test_ros, y_train_ros, y_test_ros = train_test_split(\n",
    "    X_ros, \n",
    "    y_ros, \n",
    "    test_size=0.2, \n",
    "    shuffle=True,\n",
    "    random_state=42,\n",
    ")\n",
    "\n",
    "plot_train_test_distribution(y_train_ros, loc='left')\n",
    "plot_train_test_distribution(y_test_ros, loc='right')\n",
    "plt.legend([\n",
    "    'train ({0} photos)'.format(len(y_train_ros)), \n",
    "    'test ({0} photos)'.format(len(y_test_ros))\n",
    "]);"
   ]
  },
  {
   "cell_type": "code",
   "execution_count": 55,
   "id": "acceptable-client",
   "metadata": {},
   "outputs": [
    {
     "data": {
      "image/png": "[encoded data removed]",
      "text/plain": [
       "<Figure size 432x288 with 1 Axes>"
      ]
     },
     "metadata": {
      "needs_background": "light"
     },
     "output_type": "display_data"
    }
   ],
   "source": [
    "X_train_smote, X_test_smote, y_train_smote, y_test_smote = train_test_split(\n",
    "    X_smote, \n",
    "    y_smote, \n",
    "    test_size=0.2, \n",
    "    shuffle=True,\n",
    "    random_state=42,\n",
    ")\n",
    "\n",
    "plot_train_test_distribution(y_train_smote, loc='left')\n",
    "plot_train_test_distribution(y_test_smote, loc='right')\n",
    "plt.legend([\n",
    "    'train ({0} photos)'.format(len(y_train_smote)), \n",
    "    'test ({0} photos)'.format(len(y_test_smote))\n",
    "]);"
   ]
  },
  {
   "cell_type": "code",
   "execution_count": null,
   "id": "straight-system",
   "metadata": {},
   "outputs": [],
   "source": [
    "# These are the X & y that can be used for fitting a ML model\n",
    "X_train, X_test, y_train, y_test\n",
    "X_train_rus, X_test_rus, y_train_rus, y_test_rus\n",
    "X_train_ros, X_test_ros, y_train_ros, y_test_ros\n",
    "X_train_smote, X_test_smote, y_train_smote, y_test_smote"
   ]
  },
  {
   "cell_type": "code",
   "execution_count": 16,
   "id": "vulnerable-vietnamese",
   "metadata": {},
   "outputs": [],
   "source": [
    "# pip install python-resize-image\n",
    "from resizeimage import resizeimage\n",
    "from PIL import Image, ImageOps\n",
    "import matplotlib.pyplot as plt\n",
    "%matplotlib inline\n",
    "\n",
    "def import_test_sample(test_path):\n",
    "    with open(test_path, 'r+b') as f:\n",
    "        with Image.open(f) as image:\n",
    "            test_image = resizeimage.resize_cover(image, [48,48])\n",
    "\n",
    "    test_image = ImageOps.grayscale(test_image)\n",
    "\n",
    "    test_image = np.array(test_image)\n",
    "    test_image = test_image.astype(\"int32\")\n",
    "    test_image = test_image/255.0\n",
    "    test_image = test_image.reshape(48, 48, 1)\n",
    "    plt.imshow(test_image)\n",
    "    print(test_image.shape)\n",
    "    \n",
    "    return test_image\n"
   ]
  },
  {
   "cell_type": "code",
   "execution_count": 47,
   "id": "mexican-graphic",
   "metadata": {},
   "outputs": [],
   "source": [
    "import joblib\n",
    "loaded_ml = joblib.load(\"RandomForest-Smote-Accuracy67.54.joblib\")\n",
    "loaded_ml2 = joblib.load(\"RandomForest-Augmented9-Oversampled-Accuracy83.66.joblib\")\n",
    "loaded_ml3 = joblib.load(\"RandomForest-Augmented9-Oversampled-Accuracy80.81.joblib\")\n",
    "loaded_ml4 = joblib.load(\"DecisionTree-Oversampled-Accuracy65.48.joblib\")\n",
    "loaded_ml5 = joblib.load(\"DecisionTree-Smote-Accuracy44.85.joblib\")\n",
    "loaded_ml6 = joblib.load(\"RandomForest-Augmented-Oversampled-Accuracy73.99.joblib\")\n",
    "loaded_ml7 = joblib.load(\"RandomForest-Oversampled-Accuracy73.99.joblib\")\n",
    "\n",
    "allModels = [loaded_ml, loaded_ml2, loaded_ml3, loaded_ml4, loaded_ml5, loaded_ml6, loaded_ml7]"
   ]
  },
  {
   "cell_type": "code",
   "execution_count": null,
   "id": "female-transsexual",
   "metadata": {},
   "outputs": [],
   "source": [
    "# (0=Angry, 1=Disgust, 2=Fear, 3=Happy, 4=Sad, 5=Surprise, 6=Neutral)\n",
    "CLASS_NAMES = [\"Angry\", \"Fear\", \"Happy\", \"Sad\", \"Surprise\", \"Neutral\"]\n",
    "test_image = import_test_sample(\"C:/Users/Xander/Pictures/Camera Roll/WIN_20210531_12_11_18_Pro (2).jpg\")\n",
    "\n",
    "for model in allModels:\n",
    "    y_pred = model.predict_proba(np.reshape(test_image, (1, 2304)))\n",
    "    print(CLASS_NAMES)\n",
    "    print(y_pred)\n",
    "\n",
    "# Kan aan het verschil in versies liggen dat het niet voor mij werkt."
   ]
  },
  {
   "cell_type": "code",
   "execution_count": 64,
   "id": "4c87d398",
   "metadata": {},
   "outputs": [],
   "source": [
    "from sklearn import metrics\n",
    "from sklearn.metrics import accuracy_score, precision_score, recall_score, f1_score\n",
    "\n",
    "def measure_error(y_true, y_pred, label):\n",
    "    return pd.Series({'accuracy': accuracy_score(y_true, y_pred),\n",
    "                      'precision': precision_score(y_true, y_pred, average='micro'),\n",
    "                      'recall': recall_score(y_true, y_pred, average='micro'),\n",
    "                      'f1': f1_score(y_true, y_pred, average='micro')},\n",
    "                      name=label)"
   ]
  },
  {
   "cell_type": "code",
   "execution_count": 65,
   "id": "9c7e79b6",
   "metadata": {},
   "outputs": [],
   "source": [
    "from sklearn.tree import DecisionTreeClassifier"
   ]
  },
  {
   "cell_type": "code",
   "execution_count": 36,
   "id": "4846b261",
   "metadata": {},
   "outputs": [
    {
     "name": "stdout",
     "output_type": "stream",
     "text": [
      "              train      test\n",
      "accuracy   0.998894  0.314523\n",
      "precision  0.998894  0.314523\n",
      "recall     0.998894  0.314523\n",
      "f1         0.998894  0.314523\n"
     ]
    }
   ],
   "source": [
    "#Normal dataset\n",
    "modelDTC = DecisionTreeClassifier(random_state=42, max_depth=32).fit(X_train, y_train)\n",
    "\n",
    "y_train_pred = modelDTC.predict(X_train)\n",
    "y_test_pred = modelDTC.predict(X_test)\n",
    "\n",
    "accuracy_train = measure_error(y_train, y_train_pred, 'train')\n",
    "accuracy_test = measure_error(y_test, y_test_pred, 'test')\n",
    "\n",
    "print(pd.concat([accuracy_train, accuracy_test], axis=1))"
   ]
  },
  {
   "cell_type": "code",
   "execution_count": 37,
   "id": "1f7fc0c8",
   "metadata": {},
   "outputs": [
    {
     "name": "stdout",
     "output_type": "stream",
     "text": [
      "              train     test\n",
      "accuracy   0.998883  0.29469\n",
      "precision  0.998883  0.29469\n",
      "recall     0.998883  0.29469\n",
      "f1         0.998883  0.29469\n"
     ]
    }
   ],
   "source": [
    "#Undersampled dataset\n",
    "modelDTC = DecisionTreeClassifier(random_state=42, max_depth=32).fit(X_train_rus, y_train_rus)\n",
    "\n",
    "y_train_pred = modelDTC.predict(X_train_rus)\n",
    "y_test_pred = modelDTC.predict(X_test_rus)\n",
    "\n",
    "accuracy_rus_train = measure_error(y_train_rus, y_train_pred, 'train')\n",
    "accuracy_rus_test = measure_error(y_test_rus, y_test_pred, 'test')\n",
    "\n",
    "print(pd.concat([accuracy_rus_train, accuracy_rus_test], axis=1))"
   ]
  },
  {
   "cell_type": "code",
   "execution_count": 38,
   "id": "9953a965",
   "metadata": {},
   "outputs": [
    {
     "name": "stdout",
     "output_type": "stream",
     "text": [
      "              train      test\n",
      "accuracy   0.998845  0.664433\n",
      "precision  0.998845  0.664433\n",
      "recall     0.998845  0.664433\n",
      "f1         0.998845  0.664433\n"
     ]
    }
   ],
   "source": [
    "#Oversampled dataset\n",
    "modelDTC = DecisionTreeClassifier(random_state=42, max_depth=32).fit(X_train_ros, y_train_ros)\n",
    "\n",
    "y_train_pred = modelDTC.predict(X_train_ros)\n",
    "y_test_pred = modelDTC.predict(X_test_ros)\n",
    "\n",
    "accuracy_ros_train = measure_error(y_train_ros, y_train_pred, 'train')\n",
    "accuracy_ros_test = measure_error(y_test_ros, y_test_pred, 'test')\n",
    "\n",
    "print(pd.concat([accuracy_ros_train, accuracy_ros_test], axis=1))"
   ]
  },
  {
   "cell_type": "code",
   "execution_count": 39,
   "id": "dc14233a",
   "metadata": {},
   "outputs": [
    {
     "name": "stdout",
     "output_type": "stream",
     "text": [
      "              train      test\n",
      "accuracy   0.998903  0.451889\n",
      "precision  0.998903  0.451889\n",
      "recall     0.998903  0.451889\n",
      "f1         0.998903  0.451889\n"
     ]
    }
   ],
   "source": [
    "#Smote dataset\n",
    "modelDTC = DecisionTreeClassifier(random_state=42, max_depth=32).fit(X_train_smote, y_train_smote)\n",
    "\n",
    "y_train_pred = modelDTC.predict(X_train_smote)\n",
    "y_test_pred = modelDTC.predict(X_test_smote)\n",
    "\n",
    "accuracy_smote_train = measure_error(y_train_smote, y_train_pred, 'train')\n",
    "accuracy_smote_test = measure_error(y_test_smote, y_test_pred, 'test')\n",
    "\n",
    "print(pd.concat([accuracy_smote_train, accuracy_smote_test], axis=1))"
   ]
  },
  {
   "cell_type": "code",
   "execution_count": 50,
   "id": "c60f654d",
   "metadata": {},
   "outputs": [
    {
     "data": {
      "image/png": "[encoded data removed]",
      "text/plain": [
       "<Figure size 432x288 with 1 Axes>"
      ]
     },
     "metadata": {
      "needs_background": "light"
     },
     "output_type": "display_data"
    }
   ],
   "source": [
    "x = ['Normal', 'Undersampled', 'Oversampled', 'Smote']\n",
    "y = [accuracy_test['accuracy'], accuracy_rus_test['accuracy'], accuracy_ros_test['accuracy'], accuracy_smote_test['accuracy']]\n",
    "\n",
    "y = [y*100 for y in y]\n",
    "\n",
    "plt.bar(x, y, color='green')\n",
    "plt.xlabel(\"Algorithm\")\n",
    "plt.ylabel(\"Accuracy (%)\")\n",
    "plt.title(\"Accuracy Decision Tree for every algorithm\")\n",
    "\n",
    "plt.xticks(x, x)\n",
    "\n",
    "plt.show()"
   ]
  },
  {
   "cell_type": "code",
   "execution_count": 29,
   "id": "8f91d578",
   "metadata": {
    "scrolled": true
   },
   "outputs": [
    {
     "data": {
      "text/plain": [
       "[<matplotlib.lines.Line2D at 0x1d630bc4a00>]"
      ]
     },
     "execution_count": 29,
     "metadata": {},
     "output_type": "execute_result"
    },
    {
     "data": {
      "image/png": "[encoded data removed]",
      "text/plain": [
       "<Figure size 432x288 with 1 Axes>"
      ]
     },
     "metadata": {
      "needs_background": "light"
     },
     "output_type": "display_data"
    }
   ],
   "source": [
    "trainAccuracy = []\n",
    "testAccuracy = []\n",
    "\n",
    "for i in range(1,33):\n",
    "    modelDTC = DecisionTreeClassifier(random_state=42, max_depth=i).fit(X_train_ros, y_train_ros)\n",
    "    \n",
    "    y_train_pred = modelDTC.predict(X_train_ros)\n",
    "    y_test_pred = modelDTC.predict(X_test_ros)\n",
    "\n",
    "    trainAccuracy.append(measure_error(y_train_ros, y_train_pred, 'train')['accuracy']*100)\n",
    "    testAccuracy.append(measure_error(y_test_ros, y_test_pred, 'test')['accuracy']*100)\n",
    "\n",
    "plt.plot(trainAccuracy, color='green', marker='o')\n",
    "plt.plot(testAccuracy, color='blue', marker='o')"
   ]
  },
  {
   "cell_type": "code",
   "execution_count": 66,
   "id": "09c346fe",
   "metadata": {},
   "outputs": [],
   "source": [
    "from sklearn.ensemble import RandomForestClassifier"
   ]
  },
  {
   "cell_type": "code",
   "execution_count": 68,
   "id": "8f2127eb",
   "metadata": {},
   "outputs": [
    {
     "name": "stdout",
     "output_type": "stream",
     "text": [
      "              train      test\n",
      "accuracy   0.998787  0.741481\n",
      "precision  0.998787  0.741481\n",
      "recall     0.998787  0.741481\n",
      "f1         0.998787  0.741481\n"
     ]
    }
   ],
   "source": [
    "modelRFC = RandomForestClassifier(random_state=42, max_depth=23).fit(X_train_ros, y_train_ros)\n",
    "\n",
    "y_train_pred = modelRFC.predict(X_train_ros)\n",
    "y_test_pred = modelRFC.predict(X_test_ros)\n",
    "\n",
    "accuracy_rfc_train = measure_error(y_train_ros, y_train_pred, 'train')\n",
    "accuracy_rfc_test = measure_error(y_test_ros, y_test_pred, 'test')\n",
    "\n",
    "print(pd.concat([accuracy_rfc_train, accuracy_rfc_test], axis=1))"
   ]
  },
  {
   "cell_type": "code",
   "execution_count": 49,
   "id": "c5fdcc04",
   "metadata": {},
   "outputs": [
    {
     "data": {
      "image/png": "[encoded data removed]",
      "text/plain": [
       "<Figure size 432x288 with 1 Axes>"
      ]
     },
     "metadata": {
      "needs_background": "light"
     },
     "output_type": "display_data"
    }
   ],
   "source": [
    "x = ['DCF Normal', 'DCF Undersampled', 'DCF Oversampled', 'DCF Smote', 'Oversampled RFC']\n",
    "y = [accuracy_test['accuracy'], accuracy_rus_test['accuracy'], accuracy_ros_test['accuracy'], accuracy_smote_test['accuracy'], accuracy_rfc_test['accuracy']]\n",
    "\n",
    "y = [y*100 for y in y]\n",
    "\n",
    "plt.bar(x, y, color='green')\n",
    "plt.xlabel(\"Algorithm\")\n",
    "plt.ylabel(\"Accuracy (%)\")\n",
    "plt.title(\"Accuracy\")\n",
    "plt.xticks(x, x, rotation=90)\n",
    "\n",
    "plt.show()"
   ]
  },
  {
   "cell_type": "code",
   "execution_count": 69,
   "id": "f281c558",
   "metadata": {},
   "outputs": [
    {
     "name": "stdout",
     "output_type": "stream",
     "text": [
      "Fitting 3 folds for each of 500 candidates, totalling 1500 fits\n"
     ]
    }
   ],
   "source": [
    "from sklearn.model_selection import GridSearchCV\n",
    "\n",
    "n_estimators = [100, 300, 500, 800, 1200]\n",
    "max_depth = [5, 8, 15, 25, 30]\n",
    "min_samples_split = [2, 5, 10, 15, 100]\n",
    "min_samples_leaf = [1, 2, 5, 10] \n",
    "\n",
    "hyperF = dict(n_estimators = n_estimators, max_depth = max_depth,  \n",
    "              min_samples_split = min_samples_split, \n",
    "             min_samples_leaf = min_samples_leaf)\n",
    "\n",
    "gridF = GridSearchCV(modelRFC, hyperF, cv = 3, verbose = 1, \n",
    "                      n_jobs = -1)\n",
    "bestF = gridF.fit(X_train_ros, y_train_ros)"
   ]
  },
  {
   "cell_type": "code",
   "execution_count": 70,
   "id": "22273074",
   "metadata": {},
   "outputs": [
    {
     "name": "stdout",
     "output_type": "stream",
     "text": [
      "              train      test\n",
      "accuracy   0.998787  0.759501\n",
      "precision  0.998787  0.759501\n",
      "recall     0.998787  0.759501\n",
      "f1         0.998787  0.759501\n"
     ]
    }
   ],
   "source": [
    "y_train_pred = bestF.predict(X_train_ros)\n",
    "y_test_pred = bestF.predict(X_test_ros)\n",
    "\n",
    "accuracy_rfc_train = measure_error(y_train_ros, y_train_pred, 'train')\n",
    "accuracy_rfc_test = measure_error(y_test_ros, y_test_pred, 'test')\n",
    "\n",
    "print(pd.concat([accuracy_rfc_train, accuracy_rfc_test], axis=1))"
   ]
  },
  {
   "cell_type": "code",
   "execution_count": 82,
   "id": "3eb14545",
   "metadata": {},
   "outputs": [
    {
     "name": "stdout",
     "output_type": "stream",
     "text": [
      "{'max_depth': 25, 'min_samples_leaf': 1, 'min_samples_split': 2, 'n_estimators': 1200}\n"
     ]
    }
   ],
   "source": [
    "print(bestF.best_params_)"
   ]
  },
  {
   "cell_type": "code",
   "execution_count": 31,
   "id": "6c83256d",
   "metadata": {},
   "outputs": [
    {
     "data": {
      "text/plain": [
       "['RandomForest-Oversampled-Accuracy73.99.joblib']"
      ]
     },
     "execution_count": 31,
     "metadata": {},
     "output_type": "execute_result"
    }
   ],
   "source": [
    "#Export Oversampled\n",
    "import joblib\n",
    "modelRFC = RandomForestClassifier(random_state=42, max_depth=23).fit(X_train_ros, y_train_ros)\n",
    "y_test_pred = modelRFC.predict(X_test_ros)\n",
    "accuracy_rfc_test = round(measure_error(y_test_ros, y_test_pred, 'test')['accuracy']*100,2)\n",
    "joblib.dump(modelRFC, 'RandomForest-Oversampled-Accuracy' + str(accuracy_rfc_test) + '.joblib') "
   ]
  },
  {
   "cell_type": "code",
   "execution_count": 35,
   "id": "b795631e",
   "metadata": {},
   "outputs": [
    {
     "data": {
      "text/plain": [
       "['RandomForest-Smote-Accuracy67.54.joblib']"
      ]
     },
     "execution_count": 35,
     "metadata": {},
     "output_type": "execute_result"
    }
   ],
   "source": [
    "#Export Smote\n",
    "modelRFC = RandomForestClassifier(random_state=42, max_depth=23).fit(X_train_smote, y_train_smote)\n",
    "y_test_pred = modelRFC.predict(X_test_smote)\n",
    "accuracy_rfc_test = round(measure_error(y_test_smote, y_test_pred, 'test')['accuracy']*100,2)\n",
    "joblib.dump(modelRFC, 'RandomForest-Smote-Accuracy' + str(accuracy_rfc_test) + '.joblib') "
   ]
  },
  {
   "cell_type": "code",
   "execution_count": 36,
   "id": "3536da64",
   "metadata": {},
   "outputs": [
    {
     "data": {
      "text/plain": [
       "['DecisionTree-Oversampled-Accuracy65.48.joblib']"
      ]
     },
     "execution_count": 36,
     "metadata": {},
     "output_type": "execute_result"
    }
   ],
   "source": [
    "#Decision Tree\n",
    "import joblib\n",
    "modelDTC = DecisionTreeClassifier(random_state=42, max_depth=23).fit(X_train_ros, y_train_ros)\n",
    "y_test_pred = modelDTC.predict(X_test_ros)\n",
    "accuracy_rfc_test = round(measure_error(y_test_ros, y_test_pred, 'test')['accuracy']*100,2)\n",
    "joblib.dump(modelRFC, 'DecisionTree-Oversampled-Accuracy' + str(accuracy_rfc_test) + '.joblib') "
   ]
  },
  {
   "cell_type": "code",
   "execution_count": 37,
   "id": "af4d0e33",
   "metadata": {},
   "outputs": [
    {
     "data": {
      "text/plain": [
       "['DecisionTree-Smote-Accuracy44.85.joblib']"
      ]
     },
     "execution_count": 37,
     "metadata": {},
     "output_type": "execute_result"
    }
   ],
   "source": [
    "modelDTC = DecisionTreeClassifier(random_state=42, max_depth=23).fit(X_train_smote, y_train_smote)\n",
    "y_test_pred = modelDTC.predict(X_test_smote)\n",
    "accuracy_rfc_test = round(measure_error(y_test_smote, y_test_pred, 'test')['accuracy']*100,2)\n",
    "joblib.dump(modelRFC, 'DecisionTree-Smote-Accuracy' + str(accuracy_rfc_test) + '.joblib') "
   ]
  },
  {
   "cell_type": "code",
   "execution_count": 67,
   "id": "85e99c1d",
   "metadata": {},
   "outputs": [],
   "source": [
    "#Augemented 9 images"
   ]
  },
  {
   "cell_type": "code",
   "execution_count": 111,
   "id": "617d83a4",
   "metadata": {},
   "outputs": [
    {
     "data": {
      "text/plain": [
       "['RandomForest-Augmented9-Oversampled-Accuracy83.66.joblib']"
      ]
     },
     "execution_count": 111,
     "metadata": {},
     "output_type": "execute_result"
    }
   ],
   "source": [
    "#Export Oversampled\n",
    "modelRFC = RandomForestClassifier(random_state=42, max_depth=25, min_samples_leaf=1, min_samples_split=2, n_estimators=1200).fit(X_train_ros, y_train_ros)\n",
    "y_test_pred = modelRFC.predict(X_test_ros)\n",
    "accuracy_rfc_test = round(measure_error(y_test_ros, y_test_pred, 'test')['accuracy']*100,2)\n",
    "joblib.dump(modelRFC, 'RandomForest-Augmented9-Oversampled-Accuracy' + str(accuracy_rfc_test) + '.joblib') "
   ]
  },
  {
   "cell_type": "code",
   "execution_count": 119,
   "id": "9d02f3d1",
   "metadata": {},
   "outputs": [
    {
     "data": {
      "text/plain": [
       "<sklearn.metrics._plot.confusion_matrix.ConfusionMatrixDisplay at 0x19cde76a5b0>"
      ]
     },
     "execution_count": 119,
     "metadata": {},
     "output_type": "execute_result"
    },
    {
     "data": {
      "image/png": "[encoded data removed]",
      "text/plain": [
       "<Figure size 432x288 with 2 Axes>"
      ]
     },
     "metadata": {
      "needs_background": "light"
     },
     "output_type": "display_data"
    }
   ],
   "source": [
    "from sklearn.metrics import plot_confusion_matrix\n",
    "CLASS_NAMES_WITHOUT_DISGUST = [\"Angry\", \"Fear\", \"Happy\", \"Sad\", \"Surprise\", \"Neutral\"]\n",
    "\n",
    "plot_confusion_matrix(loaded_model, X_test_ros, y_test_ros, display_labels = CLASS_NAMES_WITHOUT_DISGUST)\n"
   ]
  },
  {
   "cell_type": "code",
   "execution_count": 122,
   "id": "1ee11a42",
   "metadata": {},
   "outputs": [
    {
     "name": "stdout",
     "output_type": "stream",
     "text": [
      "0.8365774486813682\n",
      "accuracy     0.836577\n",
      "precision    0.836577\n",
      "recall       0.836577\n",
      "f1           0.836577\n",
      "Name: test, dtype: float64\n"
     ]
    }
   ],
   "source": [
    "accuracy_rfc_test = measure_error(y_test_ros, y_test_pred, 'test')\n",
    "print(accuracy_rfc_test)"
   ]
  },
  {
   "cell_type": "code",
   "execution_count": 3,
   "id": "c05fa7f9",
   "metadata": {},
   "outputs": [],
   "source": [
    "#pip install opencv-python\n",
    "import cv2\n",
    "import time\n",
    "\n",
    "def click_and_crop(event, x, y, flags, param):\n",
    "    global refPt, cropping\n",
    "    # if the left mouse button was clicked, record the starting\n",
    "    # (x, y) coordinates and indicate that cropping is being\n",
    "    # performed\n",
    "    if event == cv2.EVENT_LBUTTONDOWN:\n",
    "        refPt = [(x, y)]\n",
    "        cropping = True\n",
    "        # check to see if the left mouse button was released\n",
    "    elif event == cv2.EVENT_LBUTTONUP:\n",
    "        # record the ending (x, y) coordinates and indicate that\n",
    "        # the cropping operation is finished\n",
    "        refPt.append((x, y))\n",
    "        cropping = False\n",
    "        # draw a rectangle around the region of interest\n",
    "        #cv2.rectangle(image, refPt[0], refPt[1], (0, 255, 0), 2)\n",
    "        #cv2.imshow(\"my webcam\", image)\n",
    "        \n",
    "def clickPredict(event, x, y, flags, param):\n",
    "    global loaded_ml\n",
    "    global CLASS_NAMES\n",
    "    \n",
    "    test_image = cv2.resize(roi, [48,48])\n",
    "    test_image = Image.fromarray(test_image)\n",
    "    test_image = ImageOps.grayscale(test_image)\n",
    "\n",
    "    test_image = np.array(test_image)\n",
    "    test_image = test_image.astype(\"int32\")\n",
    "    test_image = test_image/255.0\n",
    "    test_image = test_image.reshape(48, 48, 1)\n",
    "\n",
    "    clear_output(wait=True)\n",
    "    #for model in allModels:\n",
    "    y_pred = loaded_ml.predict(np.reshape(test_image, (1, 2304)))\n",
    "    print(CLASS_NAMES[y_pred[0]])"
   ]
  },
  {
   "cell_type": "code",
   "execution_count": 14,
   "id": "b860d71b",
   "metadata": {
    "scrolled": true
   },
   "outputs": [
    {
     "name": "stdout",
     "output_type": "stream",
     "text": [
      "[('Sad', 5), ('Happy', 2)]\n"
     ]
    },
    {
     "ename": "KeyboardInterrupt",
     "evalue": "",
     "output_type": "error",
     "traceback": [
      "\u001b[1;31m---------------------------------------------------------------------------\u001b[0m",
      "\u001b[1;31mKeyboardInterrupt\u001b[0m                         Traceback (most recent call last)",
      "\u001b[1;32m<ipython-input-14-c9a817925dc4>\u001b[0m in \u001b[0;36m<module>\u001b[1;34m\u001b[0m\n\u001b[0;32m     27\u001b[0m \u001b[1;33m\u001b[0m\u001b[0m\n\u001b[0;32m     28\u001b[0m \u001b[1;32mwhile\u001b[0m \u001b[1;32mTrue\u001b[0m\u001b[1;33m:\u001b[0m\u001b[1;33m\u001b[0m\u001b[1;33m\u001b[0m\u001b[0m\n\u001b[1;32m---> 29\u001b[1;33m     \u001b[0mret_val\u001b[0m\u001b[1;33m,\u001b[0m \u001b[0mimg\u001b[0m \u001b[1;33m=\u001b[0m \u001b[0mcam\u001b[0m\u001b[1;33m.\u001b[0m\u001b[0mread\u001b[0m\u001b[1;33m(\u001b[0m\u001b[1;33m)\u001b[0m\u001b[1;33m\u001b[0m\u001b[1;33m\u001b[0m\u001b[0m\n\u001b[0m\u001b[0;32m     30\u001b[0m     \u001b[1;32mif\u001b[0m \u001b[0mret_val\u001b[0m \u001b[1;33m==\u001b[0m \u001b[1;32mFalse\u001b[0m\u001b[1;33m:\u001b[0m\u001b[1;33m\u001b[0m\u001b[1;33m\u001b[0m\u001b[0m\n\u001b[0;32m     31\u001b[0m         \u001b[0mcam\u001b[0m\u001b[1;33m.\u001b[0m\u001b[0mrelease\u001b[0m\u001b[1;33m(\u001b[0m\u001b[1;33m)\u001b[0m\u001b[1;33m\u001b[0m\u001b[1;33m\u001b[0m\u001b[0m\n",
      "\u001b[1;31mKeyboardInterrupt\u001b[0m: "
     ]
    }
   ],
   "source": [
    "import joblib\n",
    "from IPython.display import clear_output, display\n",
    "from resizeimage import resizeimage\n",
    "from PIL import Image, ImageOps\n",
    "from collections import Counter\n",
    "import time\n",
    "\n",
    "#loaded_ml = joblib.load(\"RandomForest-Smote-Accuracy67.54.joblib\")\n",
    "#loaded_ml2 = joblib.load(\"RandomForest-Augmented9-Oversampled-Accuracy83.66.joblib\")\n",
    "#loaded_ml3 = joblib.load(\"RandomForest-Augmented9-Oversampled-Accuracy80.81.joblib\")\n",
    "#loaded_ml4 = joblib.load(\"DecisionTree-Oversampled-Accuracy65.48.joblib\")\n",
    "#loaded_ml5 = joblib.load(\"DecisionTree-Smote-Accuracy44.85.joblib\")\n",
    "#loaded_ml6 = joblib.load(\"RandomForest-Augmented-Oversampled-Accuracy73.99.joblib\")\n",
    "#loaded_ml7 = joblib.load(\"RandomForest-Oversampled-Accuracy73.99.joblib\")\n",
    "\n",
    "allModels = [loaded_ml, loaded_ml2, loaded_ml3, loaded_ml4, loaded_ml5, loaded_ml6, loaded_ml7]\n",
    "CLASS_NAMES = [\"Angry\", \"Disgust\", \"Fear\", \"Happy\", \"Sad\", \"Surprise\", \"Neutral\"]\n",
    "\n",
    "refPt = []\n",
    "cam = cv2.VideoCapture(1)\n",
    "if cam.isOpened():  # try to get the first frame\n",
    "    print('Cam is working')\n",
    "else:\n",
    "    print(\"Cam is not working\")\n",
    "\n",
    "output = [\"\",\"\",\"\",\"\",\"\",\"\",\"\"]\n",
    "\n",
    "while True:\n",
    "    ret_val, img = cam.read()\n",
    "    if ret_val == False:\n",
    "        cam.release()\n",
    "    if cv2.waitKey(1) == 27: \n",
    "        break  # esc to quit\n",
    "    if len(refPt) == 2:\n",
    "        roi = img[refPt[0][1]:refPt[1][1], refPt[0][0]:refPt[1][0]]\n",
    "        cv2.imshow(\"ROI\", roi)\n",
    "        \n",
    "        test_image = cv2.resize(roi, [48,48])\n",
    "        test_image = Image.fromarray(test_image)\n",
    "        test_image = ImageOps.grayscale(test_image)\n",
    "\n",
    "        test_image = np.array(test_image)\n",
    "        test_image = test_image.astype(\"int32\")\n",
    "        test_image = test_image/255.0\n",
    "        test_image = test_image.reshape(48, 48, 1)\n",
    "        \n",
    "        clear_output(wait=True)\n",
    "        x = 0\n",
    "        for model in allModels:\n",
    "            y_pred = model.predict(np.reshape(test_image, (1, 2304)))\n",
    "            output[x] = CLASS_NAMES[y_pred[0]]\n",
    "            x+=1\n",
    "        mostPredicted = [item for item in Counter(output).most_common()]\n",
    "        print (str(mostPredicted))\n",
    "    else:\n",
    "        cv2.imshow('my webcam', img)\n",
    "        cv2.setMouseCallback(\"my webcam\", click_and_crop)\n",
    "\n",
    "\n",
    "cv2.destroyAllWindows()"
   ]
  }
 ],
 "metadata": {
  "kernelspec": {
   "display_name": "Python 3",
   "language": "python",
   "name": "python3"
  },
  "language_info": {
   "codemirror_mode": {
    "name": "ipython",
    "version": 3
   },
   "file_extension": ".py",
   "mimetype": "text/x-python",
   "name": "python",
   "nbconvert_exporter": "python",
   "pygments_lexer": "ipython3",
   "version": "3.9.4"
  }
 },
 "nbformat": 4,
 "nbformat_minor": 5
}
