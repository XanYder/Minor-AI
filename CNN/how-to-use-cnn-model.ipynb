{
 "cells": [
  {
   "cell_type": "markdown",
   "metadata": {},
   "source": [
    "# This notebook shows how to use the trained CNN models"
   ]
  },
  {
   "cell_type": "code",
   "execution_count": 1,
   "metadata": {
    "tags": []
   },
   "outputs": [],
   "source": [
    "import tensorflow as tf\n",
    "from resizeimage import resizeimage\n",
    "from PIL import Image, ImageOps\n",
    "import numpy as np\n",
    "import cv2"
   ]
  },
  {
   "cell_type": "code",
   "execution_count": 2,
   "metadata": {},
   "outputs": [],
   "source": [
    "CLASS_NAMES_WITHOUT_DISGUST = [\"Angry\", \"Fear\", \"Happy\", \"Sad\", \"Surprise\", \"Neutral\"]"
   ]
  },
  {
   "cell_type": "code",
   "execution_count": 3,
   "metadata": {},
   "outputs": [
    {
     "ename": "OSError",
     "evalue": "SavedModel file does not exist at: models/CNNmodel3/{saved_model.pbtxt|saved_model.pb}",
     "output_type": "error",
     "traceback": [
      "\u001B[0;31m---------------------------------------------------------------------------\u001B[0m",
      "\u001B[0;31mOSError\u001B[0m                                   Traceback (most recent call last)",
      "\u001B[0;32m<timed exec>\u001B[0m in \u001B[0;36m<module>\u001B[0;34m\u001B[0m\n",
      "\u001B[0;32m~/miniconda3/envs/emotion/lib/python3.6/site-packages/tensorflow/python/keras/saving/save.py\u001B[0m in \u001B[0;36mload_model\u001B[0;34m(filepath, custom_objects, compile, options)\u001B[0m\n\u001B[1;32m    209\u001B[0m       \u001B[0mfilepath\u001B[0m \u001B[0;34m=\u001B[0m \u001B[0mpath_to_string\u001B[0m\u001B[0;34m(\u001B[0m\u001B[0mfilepath\u001B[0m\u001B[0;34m)\u001B[0m\u001B[0;34m\u001B[0m\u001B[0;34m\u001B[0m\u001B[0m\n\u001B[1;32m    210\u001B[0m       \u001B[0;32mif\u001B[0m \u001B[0misinstance\u001B[0m\u001B[0;34m(\u001B[0m\u001B[0mfilepath\u001B[0m\u001B[0;34m,\u001B[0m \u001B[0msix\u001B[0m\u001B[0;34m.\u001B[0m\u001B[0mstring_types\u001B[0m\u001B[0;34m)\u001B[0m\u001B[0;34m:\u001B[0m\u001B[0;34m\u001B[0m\u001B[0;34m\u001B[0m\u001B[0m\n\u001B[0;32m--> 211\u001B[0;31m         \u001B[0mloader_impl\u001B[0m\u001B[0;34m.\u001B[0m\u001B[0mparse_saved_model\u001B[0m\u001B[0;34m(\u001B[0m\u001B[0mfilepath\u001B[0m\u001B[0;34m)\u001B[0m\u001B[0;34m\u001B[0m\u001B[0;34m\u001B[0m\u001B[0m\n\u001B[0m\u001B[1;32m    212\u001B[0m         \u001B[0;32mreturn\u001B[0m \u001B[0msaved_model_load\u001B[0m\u001B[0;34m.\u001B[0m\u001B[0mload\u001B[0m\u001B[0;34m(\u001B[0m\u001B[0mfilepath\u001B[0m\u001B[0;34m,\u001B[0m \u001B[0mcompile\u001B[0m\u001B[0;34m,\u001B[0m \u001B[0moptions\u001B[0m\u001B[0;34m)\u001B[0m\u001B[0;34m\u001B[0m\u001B[0;34m\u001B[0m\u001B[0m\n\u001B[1;32m    213\u001B[0m \u001B[0;34m\u001B[0m\u001B[0m\n",
      "\u001B[0;32m~/miniconda3/envs/emotion/lib/python3.6/site-packages/tensorflow/python/saved_model/loader_impl.py\u001B[0m in \u001B[0;36mparse_saved_model\u001B[0;34m(export_dir)\u001B[0m\n\u001B[1;32m    112\u001B[0m                   (export_dir,\n\u001B[1;32m    113\u001B[0m                    \u001B[0mconstants\u001B[0m\u001B[0;34m.\u001B[0m\u001B[0mSAVED_MODEL_FILENAME_PBTXT\u001B[0m\u001B[0;34m,\u001B[0m\u001B[0;34m\u001B[0m\u001B[0;34m\u001B[0m\u001B[0m\n\u001B[0;32m--> 114\u001B[0;31m                    constants.SAVED_MODEL_FILENAME_PB))\n\u001B[0m\u001B[1;32m    115\u001B[0m \u001B[0;34m\u001B[0m\u001B[0m\n\u001B[1;32m    116\u001B[0m \u001B[0;34m\u001B[0m\u001B[0m\n",
      "\u001B[0;31mOSError\u001B[0m: SavedModel file does not exist at: models/CNNmodel3/{saved_model.pbtxt|saved_model.pb}"
     ]
    }
   ],
   "source": [
    "%%time\n",
    "# Download the models from drive and put them in a folder named \"models\" for example\n",
    "CNNModel3 = tf.keras.models.load_model(\"models/CNNmodel3\")\n",
    "CNNModel4 = tf.keras.models.load_model(\"models/CNNmodel4\")\n",
    "CNNModel5 = tf.keras.models.load_model(\"models/CNNmodel5\")\n",
    "CNNModel6 = tf.keras.models.load_model(\"models/CNNmodel6\")"
   ]
  },
  {
   "cell_type": "code",
   "execution_count": 7,
   "metadata": {},
   "outputs": [],
   "source": [
    "def predict(image):\n",
    "    rgb_image = cv2.cvtColor(np.float32(image), cv2.COLOR_GRAY2RGB)\n",
    "    rgb_image = rgb_image.reshape(1, 48, 48, 3)\n",
    "    image = image.reshape(1, 48, 48, 1)\n",
    "    \n",
    "    CNNModel3_predictions = CNNModel3.predict(image)\n",
    "    CNNModel4_predictions = CNNModel4.predict(image)\n",
    "    CNNModel5_predictions = CNNModel5.predict(image)\n",
    "    \n",
    "    CNNModel6_predictions = CNNModel6.predict(rgb_image) # This transfer learning model expects rgb input\n",
    "    \n",
    "    return CNNModel3_predictions, CNNModel4_predictions, CNNModel5_predictions, CNNModel6_predictions\n",
    "    \n",
    "\n",
    "def preprocess_image(image):\n",
    "    image = resizeimage.resize_cover(image, [48,48])\n",
    "    image = ImageOps.grayscale(image)\n",
    "    image = np.array(image)\n",
    "    image = image.astype(\"int32\")\n",
    "    image = image/255.0\n",
    "    image = image.reshape(48, 48, 1)\n",
    "    return image\n",
    "\n",
    "def get_prediction_label(CNNModel3_predictions, CNNModel4_predictions, \n",
    "                         CNNModel5_predictions, CNNModel6_predictions):    \n",
    "    return CLASS_NAMES_WITHOUT_DISGUST[np.argmax(CNNModel3_predictions)], CLASS_NAMES_WITHOUT_DISGUST[np.argmax(CNNModel4_predictions)], CLASS_NAMES_WITHOUT_DISGUST[np.argmax(CNNModel5_predictions)], CLASS_NAMES_WITHOUT_DISGUST[np.argmax(CNNModel6_predictions)]\n"
   ]
  },
  {
   "cell_type": "code",
   "execution_count": null,
   "metadata": {},
   "outputs": [],
   "source": [
    "image = preprocess_image() # Put the image in this function you want to use  \n",
    "\n",
    "CNNModel3_predictions, CNNModel4_predictions, CNNModel5_predictions, CNNModel6_predictions = predict(image)\n",
    "            \n",
    "CNNModel3_predicted_label, CNNModel4_predicted_label, CNNModel5_predicted_label, CNNModel6_predicted_label = get_prediction_label(CNNModel3_predictions, CNNModel4_predictions, \n",
    "                                                                              CNNModel5_predictions, CNNModel6_predictions)\n",
    "            \n",
    "print(f\"Predictions: \\n{CNNModel3_predicted_label, CNNModel4_predicted_label, CNNModel5_predicted_label, CNNModel6_predicted_label}\")"
   ]
  }
 ],
 "metadata": {
  "kernelspec": {
   "display_name": "Python 3",
   "language": "python",
   "name": "python3"
  },
  "language_info": {
   "codemirror_mode": {
    "name": "ipython",
    "version": 3
   },
   "file_extension": ".py",
   "mimetype": "text/x-python",
   "name": "python",
   "nbconvert_exporter": "python",
   "pygments_lexer": "ipython3",
   "version": "3.6.13"
  }
 },
 "nbformat": 4,
 "nbformat_minor": 4
}